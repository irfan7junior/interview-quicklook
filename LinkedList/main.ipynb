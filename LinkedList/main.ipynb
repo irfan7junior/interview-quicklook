{
 "metadata": {
  "language_info": {
   "codemirror_mode": {
    "name": "ipython",
    "version": 3
   },
   "file_extension": ".py",
   "mimetype": "text/x-python",
   "name": "python",
   "nbconvert_exporter": "python",
   "pygments_lexer": "ipython3",
   "version": "3.8.5"
  },
  "orig_nbformat": 2,
  "kernelspec": {
   "name": "python3",
   "display_name": "Python 3",
   "language": "python"
  }
 },
 "nbformat": 4,
 "nbformat_minor": 2,
 "cells": [
  {
   "source": [
    "# Linked List"
   ],
   "cell_type": "markdown",
   "metadata": {}
  },
  {
   "source": [
    "## Singly Linked List"
   ],
   "cell_type": "markdown",
   "metadata": {}
  },
  {
   "cell_type": "code",
   "execution_count": 2,
   "metadata": {},
   "outputs": [],
   "source": [
    "class Node(object):\n",
    "\n",
    "    def __init__(self, value, next = None):\n",
    "        self.value = value\n",
    "        self.next = None\n",
    "    \n",
    "    def __repr__(self):\n",
    "        result = f'(Node: {self.value}) -> '\n",
    "        if self.next is None:\n",
    "            result += 'None'\n",
    "        else:\n",
    "            result += str(self.next)\n",
    "        return result"
   ]
  },
  {
   "source": [
    "## Doubly Linked List"
   ],
   "cell_type": "markdown",
   "metadata": {}
  },
  {
   "cell_type": "code",
   "execution_count": 3,
   "metadata": {},
   "outputs": [],
   "source": [
    " class DoublyNode(object):\n",
    "    \n",
    "    def __init__(self, value, prev = None, next = None):\n",
    "        self.value = value\n",
    "        self.next = next\n",
    "        self.prev = prev\n",
    "    def __repr__(self):\n",
    "        result = f'Node: {self.value} <=> '\n",
    "        if self.next is None:\n",
    "            result += 'None'\n",
    "        else:\n",
    "            result += str(self.next)\n",
    "        return result"
   ]
  },
  {
   "source": [
    "## Singly Linked List Cycle Check"
   ],
   "cell_type": "markdown",
   "metadata": {}
  },
  {
   "cell_type": "code",
   "execution_count": 4,
   "metadata": {},
   "outputs": [],
   "source": [
    "def cycle_check(node: Node) -> bool:\n",
    "    marker1 = node\n",
    "    marker2 = node\n",
    "\n",
    "    while marker1 != None and marker2.next != None:\n",
    "        marker1 = marker1.next\n",
    "        marker2 = marker2.next.next\n",
    "\n",
    "        if marker1 == marker2:\n",
    "            return True\n",
    "    return False"
   ]
  },
  {
   "cell_type": "code",
   "execution_count": 5,
   "metadata": {},
   "outputs": [
    {
     "output_type": "stream",
     "name": "stdout",
     "text": [
      "ALL TEST CASES PASSED\n"
     ]
    }
   ],
   "source": [
    "from nose.tools import assert_equal\n",
    "\n",
    "# CREATE CYCLE LIST\n",
    "a = Node(1)\n",
    "b = Node(2)\n",
    "c = Node(3)\n",
    "\n",
    "a.next = b\n",
    "b.next = c\n",
    "c.next = a # Cycle Here!\n",
    "\n",
    "\n",
    "# CREATE NON CYCLE LIST\n",
    "x = Node(1)\n",
    "y = Node(2)\n",
    "z = Node(3)\n",
    "\n",
    "x.next = y\n",
    "y.next = z\n",
    "\n",
    "\n",
    "#############\n",
    "class TestCycleCheck(object):\n",
    "    \n",
    "    def test(self,sol):\n",
    "        assert_equal(sol(a),True)\n",
    "        assert_equal(sol(x),False)\n",
    "        \n",
    "        print(\"ALL TEST CASES PASSED\")\n",
    "        \n",
    "# Run Tests\n",
    "TestCycleCheck().test(cycle_check)"
   ]
  },
  {
   "source": [
    "## Reverse a Linked List"
   ],
   "cell_type": "markdown",
   "metadata": {}
  },
  {
   "cell_type": "code",
   "execution_count": 6,
   "metadata": {},
   "outputs": [],
   "source": [
    "def reverse_linked_list(head: Node) -> None:\n",
    "    current_node = head\n",
    "    prev_node = None\n",
    "    next_node = None\n",
    "\n",
    "    # Until we have gone through the end of the list\n",
    "    while current_node is not None:\n",
    "        # Copy the current_node's next to next_node\n",
    "        next_node = current_node.next\n",
    "\n",
    "        # Reverse the pointer of the next_node\n",
    "        current_node.next = prev_node\n",
    "        \n",
    "        # Go one forward in the list\n",
    "        prev_node = current_node\n",
    "        current_node = next_node\n",
    "    \n",
    "    return prev_node"
   ]
  },
  {
   "source": [
    "## Linked List Nth to Last Node"
   ],
   "cell_type": "markdown",
   "metadata": {}
  },
  {
   "cell_type": "code",
   "execution_count": 15,
   "metadata": {},
   "outputs": [],
   "source": [
    "def nth_to_last_node(n: int, head: Node) -> Node:\n",
    "    r_node = l_node = head\n",
    "    for i in range(n - 1):\n",
    "        if r_node.next == None:\n",
    "            raise LookupError('Error: n > size of linked list')\n",
    "        else:\n",
    "            r_node = r_node.next\n",
    "\n",
    "    while r_node.next != None:\n",
    "        r_node = r_node.next\n",
    "        l_node = l_node.next\n",
    "    \n",
    "    return l_node"
   ]
  },
  {
   "cell_type": "code",
   "execution_count": 16,
   "metadata": {},
   "outputs": [
    {
     "output_type": "stream",
     "name": "stdout",
     "text": [
      "ALL TEST CASES PASSED\n"
     ]
    }
   ],
   "source": [
    "from nose.tools import assert_equal\n",
    "\n",
    "a = Node(1)\n",
    "b = Node(2)\n",
    "c = Node(3)\n",
    "d = Node(4)\n",
    "e = Node(5)\n",
    "\n",
    "a.next = b\n",
    "b.next = c\n",
    "c.next = d\n",
    "d.next = e\n",
    "\n",
    "class TestNLast(object):\n",
    "    \n",
    "    def test(self,sol):\n",
    "        \n",
    "        assert_equal(sol(2,a),d)\n",
    "        print('ALL TEST CASES PASSED')\n",
    "        \n",
    "# Run tests\n",
    "TestNLast().test(nth_to_last_node)"
   ]
  }
 ]
}