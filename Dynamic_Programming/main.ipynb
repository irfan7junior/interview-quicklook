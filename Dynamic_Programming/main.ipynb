{
 "metadata": {
  "language_info": {
   "codemirror_mode": {
    "name": "ipython",
    "version": 3
   },
   "file_extension": ".py",
   "mimetype": "text/x-python",
   "name": "python",
   "nbconvert_exporter": "python",
   "pygments_lexer": "ipython3",
   "version": "3.8.5-final"
  },
  "orig_nbformat": 2,
  "kernelspec": {
   "name": "python3",
   "display_name": "Python 3.8.5 32-bit",
   "metadata": {
    "interpreter": {
     "hash": "b3ddf538fb3a42f9fbfe7f11c6dede3ea7130c83f3ba063cba8ec84a42ce8ea2"
    }
   }
  }
 },
 "nbformat": 4,
 "nbformat_minor": 2,
 "cells": [
  {
   "source": [
    "# Dynamic Programming"
   ],
   "cell_type": "markdown",
   "metadata": {}
  },
  {
   "source": [
    "## Fibonacci Problem"
   ],
   "cell_type": "markdown",
   "metadata": {}
  },
  {
   "cell_type": "code",
   "execution_count": 10,
   "metadata": {},
   "outputs": [],
   "source": [
    "def fib_rec(num: int, memo = dict()) -> int:\n",
    "    if num < 2:\n",
    "        return num\n",
    "    if num in memo:\n",
    "        return memo.get(num)\n",
    "    \n",
    "    ans = fib_rec(num - 1, memo) + fib_rec(num - 2, memo)\n",
    "    memo[num] = ans\n",
    "    return ans"
   ]
  },
  {
   "cell_type": "code",
   "execution_count": 11,
   "metadata": {},
   "outputs": [
    {
     "output_type": "stream",
     "name": "stdout",
     "text": [
      "All test cases passed\n"
     ]
    }
   ],
   "source": [
    "from nose.tools import assert_equal\n",
    "class Test(object):\n",
    "    def test(self, sol):\n",
    "        assert_equal(sol(10), 55)\n",
    "        print('All test cases passed')\n",
    "Test().test(fib_rec)"
   ]
  },
  {
   "source": [
    "## Grid Traveler Problem"
   ],
   "cell_type": "markdown",
   "metadata": {}
  },
  {
   "cell_type": "code",
   "execution_count": 1,
   "metadata": {},
   "outputs": [],
   "source": [
    "def grid_traveler_rec(rows: int, cols: int, memo = dict()) -> int:\n",
    "    if rows is 0 or cols is 0:\n",
    "        return 0\n",
    "    if rows is 1 and cols is 1:\n",
    "        return 1\n",
    "    \n",
    "    if f'{rows},{cols}' in memo:\n",
    "        return memo[f'{rows},{cols}']\n",
    "\n",
    "    ans = grid_traveler_rec(rows - 1, cols, memo) + grid_traveler_rec(rows, cols - 1, memo)\n",
    "    memo[f'{rows},{cols}'] = ans\n",
    "    return ans"
   ]
  },
  {
   "cell_type": "code",
   "execution_count": 2,
   "metadata": {},
   "outputs": [
    {
     "output_type": "stream",
     "name": "stdout",
     "text": [
      "All test cases passed\n"
     ]
    }
   ],
   "source": [
    "from nose.tools import assert_equal\n",
    "class Test(object):\n",
    "    def test(self, sol):\n",
    "        assert_equal(sol(18, 18), 2333606220)\n",
    "        print('All test cases passed')\n",
    "Test().test(grid_traveler_rec)"
   ]
  },
  {
   "source": [
    "## Can Sum Type "
   ],
   "cell_type": "markdown",
   "metadata": {}
  },
  {
   "cell_type": "code",
   "execution_count": 5,
   "metadata": {},
   "outputs": [],
   "source": [
    "def can_sum_rec(target: int, nums: int, memo = dict()) -> bool:\n",
    "    if target == 0:\n",
    "        return True\n",
    "\n",
    "    if target < 0:\n",
    "        return False\n",
    "\n",
    "    if target in memo:\n",
    "        return memo.get(target)\n",
    "    \n",
    "    for num in nums:\n",
    "        if can_sum_rec(target - num, nums, memo):\n",
    "            memo[target] = True\n",
    "            return True\n",
    "\n",
    "    memo[target] = False\n",
    "    return False"
   ]
  },
  {
   "cell_type": "code",
   "execution_count": 6,
   "metadata": {},
   "outputs": [
    {
     "output_type": "stream",
     "name": "stdout",
     "text": [
      "All test cases passed\n"
     ]
    }
   ],
   "source": [
    "from nose.tools import assert_equal\n",
    "class Test(object):\n",
    "    def test(self, sol):\n",
    "        assert_equal(sol(7, [2, 3]), True)\n",
    "        assert_equal(sol(300, [7, 14]), False)\n",
    "        print('All test cases passed')\n",
    "Test().test(can_sum_rec)"
   ]
  },
  {
   "source": [
    "## How Sum Type"
   ],
   "cell_type": "markdown",
   "metadata": {}
  },
  {
   "cell_type": "code",
   "execution_count": null,
   "metadata": {},
   "outputs": [],
   "source": []
  },
  {
   "cell_type": "code",
   "execution_count": 8,
   "metadata": {},
   "outputs": [],
   "source": [
    "def how_sum_rec(target: int, nums: 'list[int]', memo = dict()) -> 'list[int]':\n",
    "    if target == 0:\n",
    "        return []\n",
    "    \n",
    "    if target < 0:\n",
    "        return None\n",
    "    \n",
    "    if target in memo:\n",
    "        return memo.get(target)\n",
    "    \n",
    "    for num in nums:\n",
    "        current = how_sum_rec(target - num, nums, memo)\n",
    "        if current is not None:\n",
    "            current.append(num)\n",
    "            memo[target] = current\n",
    "            return current\n",
    "    memo[target] = None\n",
    "    return None"
   ]
  },
  {
   "cell_type": "code",
   "execution_count": 10,
   "metadata": {},
   "outputs": [
    {
     "output_type": "stream",
     "name": "stdout",
     "text": [
      "All test cases passed\n"
     ]
    }
   ],
   "source": [
    "from nose.tools import assert_equal\n",
    "class Test(object):\n",
    "    def test(self, sol):\n",
    "        assert_equal(sol(7, [2, 3]), [3, 2, 2])\n",
    "        assert_equal(sol(300, [7, 14]), None)\n",
    "        print('All test cases passed')\n",
    "Test().test(how_sum_rec)"
   ]
  },
  {
   "source": [
    "## Best Sum Type"
   ],
   "cell_type": "markdown",
   "metadata": {}
  },
  {
   "cell_type": "code",
   "execution_count": 1,
   "metadata": {},
   "outputs": [],
   "source": [
    "def best_sum_rec(target: int, nums: 'list[int]', memo = dict()):\n",
    "    if target == 0:\n",
    "        return []\n",
    "\n",
    "    if target < 0:\n",
    "        return None\n",
    "\n",
    "    if target in memo:\n",
    "        return memo.get(target)\n",
    "\n",
    "    min_array = None\n",
    "    for num in nums:\n",
    "        current_array = best_sum_rec(target - num, nums, memo)\n",
    "        if current_array is not None:\n",
    "            current_array.append(num)\n",
    "            if min_array is None:\n",
    "                min_array = current_array\n",
    "            elif len(current_array) < len(min_array):\n",
    "                min_array = current_array\n",
    "    memo[target] = min_array\n",
    "    return min_array         "
   ]
  },
  {
   "cell_type": "code",
   "execution_count": 2,
   "metadata": {},
   "outputs": [
    {
     "output_type": "stream",
     "name": "stdout",
     "text": [
      "All test cases passed\n"
     ]
    }
   ],
   "source": [
    "from nose.tools import assert_equal\n",
    "class Test(object):\n",
    "    def test(self, sol):\n",
    "        assert_equal(sol(8, [2, 3, 5]), [5, 3])\n",
    "        # assert_equal(sol(100, [1, 2, 5, 25]), [25, 25, 25, 25])\n",
    "        print('All test cases passed')\n",
    "Test().test(best_sum_rec)"
   ]
  },
  {
   "source": [
    "## Can Construct Type"
   ],
   "cell_type": "markdown",
   "metadata": {}
  },
  {
   "cell_type": "code",
   "execution_count": 14,
   "metadata": {},
   "outputs": [],
   "source": [
    "def can_construct_rec(target: str, words: 'list[int]', memo = dict()) -> bool:\n",
    "    if target == '':\n",
    "        return True\n",
    "\n",
    "    if target in memo:\n",
    "        return memo.get(target)\n",
    "\n",
    "    for word in words:\n",
    "        if target.startswith(word):\n",
    "            if can_construct_rec(target[len(word):], words, memo):\n",
    "                memo[target] = True\n",
    "                return True\n",
    "    memo[target] = False\n",
    "    return False"
   ]
  },
  {
   "cell_type": "code",
   "execution_count": 16,
   "metadata": {},
   "outputs": [
    {
     "output_type": "stream",
     "name": "stdout",
     "text": [
      "All test cases passed\n"
     ]
    }
   ],
   "source": [
    "from nose.tools import assert_equal\n",
    "class Test(object):\n",
    "    def test(self, sol):\n",
    "        assert_equal(sol('abcdef', ['ab', 'abc', 'cd', 'def', 'abcd']), True)\n",
    "        assert_equal(sol('skateboard', ['bo', 'rd', 'ate', 't', 'ska', 'sk', 'boar']), False)\n",
    "        assert_equal(sol('eeeeeeeeeeeeeeeeeeeeeeeeeeeeeef', ['e', 'ee', 'ee', 'eee', 'eeee', 'eeeeee']), False)\n",
    "        print('All test cases passed')\n",
    "Test().test(can_construct_rec)"
   ]
  },
  {
   "source": [
    "## Count Construct Type"
   ],
   "cell_type": "markdown",
   "metadata": {}
  },
  {
   "cell_type": "code",
   "execution_count": 28,
   "metadata": {},
   "outputs": [],
   "source": [
    "def count_construct_rec(target: str, words: 'list[str]', memo = dict()) -> int:\n",
    "    if target == '':\n",
    "        return 1\n",
    "\n",
    "    if target in memo:\n",
    "        return memo.get(target)\n",
    "    \n",
    "    count = 0\n",
    "    for word in words:\n",
    "        if target.startswith(word):\n",
    "            count += count_construct_rec(target[len(word):], words)\n",
    "\n",
    "    memo[target] = count\n",
    "    return count"
   ]
  },
  {
   "cell_type": "code",
   "execution_count": 30,
   "metadata": {},
   "outputs": [
    {
     "output_type": "stream",
     "name": "stdout",
     "text": [
      "All test cases passed\n"
     ]
    }
   ],
   "source": [
    "from nose.tools import assert_equal\n",
    "class Test(object):\n",
    "    def test(self, sol):\n",
    "        assert_equal(sol('purple', ['purp', 'p', 'ur', 'le', 'purpl']), 2)\n",
    "        assert_equal(sol('abcdef', ['ab', 'abc', 'cd', 'def', 'abcd']), 1)\n",
    "        assert_equal(sol('skateboard', ['bo', 'rd', 'ate', 't', 'ska', 'sk', 'boar']), 0)\n",
    "        assert_equal(sol('eeeeeeeeeeeeeeeeeeeeeeeeeeeeeef', ['e', 'ee', 'ee', 'eee', 'eeee', 'eeeeee']), 0)\n",
    "        print('All test cases passed')\n",
    "Test().test(count_construct_rec)"
   ]
  },
  {
   "source": [
    "## All Construct Type"
   ],
   "cell_type": "markdown",
   "metadata": {}
  },
  {
   "cell_type": "code",
   "execution_count": 41,
   "metadata": {},
   "outputs": [],
   "source": [
    "def all_construct_rec(target: str, words: 'list[str]', memo = dict()) -> 'list[list[str]]':\n",
    "    if target == '':\n",
    "        return [[]]\n",
    "\n",
    "    if target in memo:\n",
    "        return memo.get(target)\n",
    "\n",
    "    result_list = []\n",
    "    for word in words:\n",
    "        if target.startswith(word):\n",
    "            current_2d_list = all_construct_rec(target[len(word):], words)\n",
    "            for current_1d in current_2d_list:\n",
    "                current_1d = [word] + current_1d\n",
    "                result_list.append(current_1d)\n",
    "                \n",
    "    memo[target] = result_list\n",
    "    return result_list"
   ]
  },
  {
   "cell_type": "code",
   "execution_count": 46,
   "metadata": {},
   "outputs": [
    {
     "output_type": "stream",
     "name": "stdout",
     "text": [
      "All test cases passed\n"
     ]
    }
   ],
   "source": [
    "from nose.tools import assert_equal\n",
    "class Test(object):\n",
    "    def test(self, sol):\n",
    "        assert_equal(sol('purple', ['purp', 'p', 'ur', 'le', 'purpl']), [['purp', 'le'], ['p', 'ur', 'p', 'le']])\n",
    "        # assert_equal(sol('abcdef', ['ab', 'abc', 'cd', 'def', 'abcd']), 1)\n",
    "        # assert_equal(sol('skateboard', ['bo', 'rd', 'ate', 't', 'ska', 'sk', 'boar']), 0)\n",
    "        assert_equal(sol('eeeeeeeeeeeeeeeeeeeeeeeeeeeeeef', ['e', 'ee', 'ee', 'eee', 'eeee', 'eeeeee']), [])\n",
    "        print('All test cases passed')\n",
    "Test().test(all_construct_rec)"
   ]
  },
  {
   "source": [
    "## Fibonacci Problem Table"
   ],
   "cell_type": "markdown",
   "metadata": {}
  },
  {
   "cell_type": "code",
   "execution_count": 65,
   "metadata": {},
   "outputs": [],
   "source": [
    "def fib_tab(target: int) -> int:\n",
    "    memo = [None] * max(2, (target + 1))\n",
    "    memo[0] = 0\n",
    "    memo[1] = 1\n",
    "    for num in range(2, target + 1):\n",
    "        memo[num] = memo[num - 1] + memo[num - 2]\n",
    "\n",
    "    return memo[target]"
   ]
  },
  {
   "cell_type": "code",
   "execution_count": 66,
   "metadata": {},
   "outputs": [
    {
     "output_type": "stream",
     "name": "stdout",
     "text": [
      "All test cases passed\n"
     ]
    }
   ],
   "source": [
    "from nose.tools import assert_equal\n",
    "class Test(object):\n",
    "    def test(self, sol):\n",
    "        assert_equal(sol(10), 55)\n",
    "        print('All test cases passed')\n",
    "Test().test(fib_tab)"
   ]
  },
  {
   "source": [
    "## Grid Traveler Problem Table"
   ],
   "cell_type": "markdown",
   "metadata": {}
  },
  {
   "cell_type": "code",
   "execution_count": 67,
   "metadata": {},
   "outputs": [],
   "source": [
    "def grid_traveler_tab(rows: int, cols: int) -> int:\n",
    "    memo = [[0] * (cols + 1) for i in range(rows + 1)]\n",
    "    memo[1][1] = 1\n",
    "    for i in range (rows + 1):\n",
    "        for j in range(cols + 1):\n",
    "            if i + 1 >= 0 and i + 1 <= rows:\n",
    "                memo[i+1][j] += memo[i][j]\n",
    "            if j + 1 >= 0 and j + 1 <= cols:\n",
    "                memo[i][j+1] += memo[i][j]\n",
    "    return memo[rows][cols]"
   ]
  },
  {
   "cell_type": "code",
   "execution_count": 68,
   "metadata": {},
   "outputs": [
    {
     "output_type": "stream",
     "name": "stdout",
     "text": [
      "All test cases passed\n"
     ]
    }
   ],
   "source": [
    "from nose.tools import assert_equal\n",
    "class Test(object):\n",
    "    def test(self, sol):\n",
    "        assert_equal(sol(18, 18), 2333606220)\n",
    "        print('All test cases passed')\n",
    "Test().test(grid_traveler_tab)"
   ]
  },
  {
   "source": [
    "## Can Sum Table"
   ],
   "cell_type": "markdown",
   "metadata": {}
  },
  {
   "cell_type": "code",
   "execution_count": 20,
   "metadata": {},
   "outputs": [],
   "source": [
    "def can_sum_tab(target: int, nums: 'list[int]') -> bool:\n",
    "    memo = [False] * (target + 1)\n",
    "    memo[0] = True\n",
    "    for cur in range(target + 1):\n",
    "        for num in nums:\n",
    "            if cur + num <= target and memo[cur] == True:\n",
    "                memo[cur + num] = True\n",
    "    return memo[target]"
   ]
  },
  {
   "cell_type": "code",
   "execution_count": 63,
   "metadata": {},
   "outputs": [
    {
     "output_type": "stream",
     "name": "stdout",
     "text": [
      "All test cases passed\n"
     ]
    }
   ],
   "source": [
    "from nose.tools import assert_equal\n",
    "class Test(object):\n",
    "    def test(self, sol):\n",
    "        assert_equal(sol(7, [2, 3]), True)\n",
    "        assert_equal(sol(300, [7, 14]), False)\n",
    "        print('All test cases passed')\n",
    "Test().test(can_sum_tab)"
   ]
  },
  {
   "source": [
    "## How Sum Table"
   ],
   "cell_type": "markdown",
   "metadata": {}
  },
  {
   "cell_type": "code",
   "execution_count": 71,
   "metadata": {},
   "outputs": [],
   "source": [
    "def how_sum_tab(target: int, nums: 'list[int]') -> 'list[int]':\n",
    "    memo = [None] * (target + 1)\n",
    "    memo[0] = []\n",
    "    for cur in range(target + 1):\n",
    "        if memo[cur] is not None:\n",
    "            for num in nums:\n",
    "                if cur + num <= target:\n",
    "                    memo[cur + num] = [num] + [num for num in memo[cur]]\n",
    "    return memo[target]"
   ]
  },
  {
   "cell_type": "code",
   "execution_count": 73,
   "metadata": {},
   "outputs": [
    {
     "output_type": "stream",
     "name": "stdout",
     "text": [
      "All test cases passed\n"
     ]
    }
   ],
   "source": [
    "from nose.tools import assert_equal\n",
    "class Test(object):\n",
    "    def test(self, sol):\n",
    "        assert_equal(sorted(sol(7, [2, 3])), sorted([3, 2, 2]))\n",
    "        assert_equal(sol(300, [7, 14]), None)\n",
    "        print('All test cases passed')\n",
    "Test().test(how_sum_tab)"
   ]
  },
  {
   "source": [
    "## Best Sum Table"
   ],
   "cell_type": "markdown",
   "metadata": {}
  },
  {
   "cell_type": "code",
   "execution_count": 74,
   "metadata": {},
   "outputs": [],
   "source": [
    "def best_sum_tab(target: int, nums: 'list[int]') -> 'list[int]':\n",
    "    memo = [None] * (target + 1)\n",
    "    memo[0] = []\n",
    "\n",
    "    for cur in range(target + 1):\n",
    "        if memo[cur] is not None:\n",
    "            for num in nums:\n",
    "                if cur + num <= target:\n",
    "                    cur_array = [num] + [num for num in memo[cur]]\n",
    "                    if memo[cur + num] is None or len(memo[cur + num]) > len(cur_array):\n",
    "                        memo[cur + num] = cur_array\n",
    "    return memo[target]"
   ]
  },
  {
   "cell_type": "code",
   "execution_count": 76,
   "metadata": {},
   "outputs": [
    {
     "output_type": "stream",
     "name": "stdout",
     "text": [
      "All test cases passed\n"
     ]
    }
   ],
   "source": [
    "from nose.tools import assert_equal\n",
    "class Test(object):\n",
    "    def test(self, sol):\n",
    "        assert_equal(sol(8, [2, 3, 5]), [5, 3])\n",
    "        assert_equal(sol(100, [1, 2, 5, 25]), [25, 25, 25, 25])\n",
    "        print('All test cases passed')\n",
    "Test().test(best_sum_tab)"
   ]
  },
  {
   "source": [
    "## Can Construct Table"
   ],
   "cell_type": "markdown",
   "metadata": {}
  },
  {
   "cell_type": "code",
   "execution_count": 78,
   "metadata": {},
   "outputs": [],
   "source": [
    "def can_construct_tab(target: str, words: 'list[str]') -> bool:\n",
    "    memo = [False] * (len(target) + 1)\n",
    "    memo[0] = True\n",
    "\n",
    "    for cur in range(len(target) + 1):\n",
    "        if memo[cur] is True:\n",
    "            for word in words:\n",
    "                if target[cur:].startswith(word):\n",
    "                    memo[cur + len(word)] = True\n",
    "    return memo[len(target)]"
   ]
  },
  {
   "cell_type": "code",
   "execution_count": 79,
   "metadata": {},
   "outputs": [
    {
     "output_type": "stream",
     "name": "stdout",
     "text": [
      "All test cases passed\n"
     ]
    }
   ],
   "source": [
    "from nose.tools import assert_equal\n",
    "class Test(object):\n",
    "    def test(self, sol):\n",
    "        assert_equal(sol('abcdef', ['ab', 'abc', 'cd', 'def', 'abcd']), True)\n",
    "        assert_equal(sol('skateboard', ['bo', 'rd', 'ate', 't', 'ska', 'sk', 'boar']), False)\n",
    "        assert_equal(sol('eeeeeeeeeeeeeeeeeeeeeeeeeeeeeef', ['e', 'ee', 'ee', 'eee', 'eeee', 'eeeeee']), False)\n",
    "        print('All test cases passed')\n",
    "Test().test(can_construct_tab)"
   ]
  },
  {
   "source": [
    "## Count Construct"
   ],
   "cell_type": "markdown",
   "metadata": {}
  },
  {
   "cell_type": "code",
   "execution_count": 88,
   "metadata": {},
   "outputs": [],
   "source": [
    "def count_construct_tab(target: str, words: 'list[str]') -> int:\n",
    "    size = len(target)\n",
    "    memo = [0] * (size + 1)\n",
    "    memo[0] = 1\n",
    "\n",
    "    for cur in range(size + 1):\n",
    "        if memo[cur] is not 0:\n",
    "            for word in words:\n",
    "                if target[cur:].startswith(word):\n",
    "                    memo[cur + len(word)] += memo[cur]\n",
    "    return memo[size]"
   ]
  },
  {
   "cell_type": "code",
   "execution_count": 89,
   "metadata": {},
   "outputs": [
    {
     "output_type": "stream",
     "name": "stdout",
     "text": [
      "All test cases passed\n"
     ]
    }
   ],
   "source": [
    "from nose.tools import assert_equal\n",
    "class Test(object):\n",
    "    def test(self, sol):\n",
    "        assert_equal(sol('purple', ['purp', 'p', 'ur', 'le', 'purpl']), 2)\n",
    "        assert_equal(sol('abcdef', ['ab', 'abc', 'cd', 'def', 'abcd']), 1)\n",
    "        assert_equal(sol('skateboard', ['bo', 'rd', 'ate', 't', 'ska', 'sk', 'boar']), 0)\n",
    "        assert_equal(sol('eeeeeeeeeeeeeeeeeeeeeeeeeeeeeef', ['e', 'ee', 'ee', 'eee', 'eeee', 'eeeeee']), 0)\n",
    "        print('All test cases passed')\n",
    "Test().test(count_construct_tab)"
   ]
  },
  {
   "source": [
    "## All Construct Table"
   ],
   "cell_type": "markdown",
   "metadata": {}
  },
  {
   "cell_type": "code",
   "execution_count": 160,
   "metadata": {},
   "outputs": [],
   "source": [
    "def all_construct_tab(target: str, words: 'list[str]') -> 'list[list[str]]':\n",
    "    size = len(target)\n",
    "    memo = [[] for _ in range(size + 1)]\n",
    "    memo[0] = [[]]\n",
    "    \n",
    "    for cur in range(size + 1):\n",
    "        for word in words:\n",
    "            if target[cur:].startswith(word):\n",
    "                new_combinations = list(map(lambda sub_array: [word for word in sub_array] + [word], memo[cur]))\n",
    "                memo[cur + len(word)].extend(new_combinations)\n",
    "    return memo[size]"
   ]
  },
  {
   "cell_type": "code",
   "execution_count": 170,
   "metadata": {},
   "outputs": [
    {
     "output_type": "stream",
     "name": "stdout",
     "text": [
      "All test cases passed\n"
     ]
    }
   ],
   "source": [
    "from nose.tools import assert_equal\n",
    "class Test(object):\n",
    "    def test(self, sol):\n",
    "        assert_equal(sol('purple', ['purp', 'p', 'ur', 'le', 'purpl']), ([ ['purp', 'le'], ['p', 'ur', 'p', 'le'] ]))\n",
    "        print('All test cases passed')\n",
    "Test().test(all_construct_tab)"
   ]
  },
  {
   "cell_type": "code",
   "execution_count": null,
   "metadata": {},
   "outputs": [],
   "source": []
  },
  {
   "cell_type": "code",
   "execution_count": null,
   "metadata": {},
   "outputs": [],
   "source": []
  }
 ]
}