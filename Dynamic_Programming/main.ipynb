{
 "metadata": {
  "language_info": {
   "codemirror_mode": {
    "name": "ipython",
    "version": 3
   },
   "file_extension": ".py",
   "mimetype": "text/x-python",
   "name": "python",
   "nbconvert_exporter": "python",
   "pygments_lexer": "ipython3",
   "version": "3.8.5"
  },
  "orig_nbformat": 2,
  "kernelspec": {
   "name": "python3",
   "display_name": "Python 3.8.5 32-bit",
   "metadata": {
    "interpreter": {
     "hash": "1738e4b2df14406e777cb374aa4ff4d67db1fae8c505445415a9d20f0fc29def"
    }
   }
  }
 },
 "nbformat": 4,
 "nbformat_minor": 2,
 "cells": [
  {
   "source": [
    "# Dynamic Programming"
   ],
   "cell_type": "markdown",
   "metadata": {}
  },
  {
   "source": [
    "## Fibonacci Problem"
   ],
   "cell_type": "markdown",
   "metadata": {}
  },
  {
   "cell_type": "code",
   "execution_count": 10,
   "metadata": {},
   "outputs": [],
   "source": [
    "def fib_rec(num: int, memo = dict()) -> int:\n",
    "    if num < 2:\n",
    "        return num\n",
    "    if num in memo:\n",
    "        return memo.get(num)\n",
    "    \n",
    "    ans = fib_rec(num - 1, memo) + fib_rec(num - 2, memo)\n",
    "    memo[num] = ans\n",
    "    return ans"
   ]
  },
  {
   "cell_type": "code",
   "execution_count": 11,
   "metadata": {},
   "outputs": [
    {
     "output_type": "stream",
     "name": "stdout",
     "text": [
      "All test cases passed\n"
     ]
    }
   ],
   "source": [
    "from nose.tools import assert_equal\n",
    "class Test(object):\n",
    "    def test(self, sol):\n",
    "        assert_equal(sol(10), 55)\n",
    "        print('All test cases passed')\n",
    "Test().test(fib_rec)"
   ]
  },
  {
   "source": [
    "## Grid Traveler Problem"
   ],
   "cell_type": "markdown",
   "metadata": {}
  },
  {
   "cell_type": "code",
   "execution_count": 1,
   "metadata": {},
   "outputs": [],
   "source": [
    "def grid_traveler_rec(rows: int, cols: int, memo = dict()) -> int:\n",
    "    if rows is 0 or cols is 0:\n",
    "        return 0\n",
    "    if rows is 1 and cols is 1:\n",
    "        return 1\n",
    "    \n",
    "    if f'{rows},{cols}' in memo:\n",
    "        return memo[f'{rows},{cols}']\n",
    "\n",
    "    ans = grid_traveler_rec(rows - 1, cols, memo) + grid_traveler_rec(rows, cols - 1, memo)\n",
    "    memo[f'{rows},{cols}'] = ans\n",
    "    return ans"
   ]
  },
  {
   "cell_type": "code",
   "execution_count": 2,
   "metadata": {},
   "outputs": [
    {
     "output_type": "stream",
     "name": "stdout",
     "text": [
      "All test cases passed\n"
     ]
    }
   ],
   "source": [
    "from nose.tools import assert_equal\n",
    "class Test(object):\n",
    "    def test(self, sol):\n",
    "        assert_equal(sol(18, 18), 2333606220)\n",
    "        print('All test cases passed')\n",
    "Test().test(grid_traveler_rec)"
   ]
  },
  {
   "source": [
    "## Can Sum Type "
   ],
   "cell_type": "markdown",
   "metadata": {}
  },
  {
   "cell_type": "code",
   "execution_count": 5,
   "metadata": {},
   "outputs": [],
   "source": [
    "def can_sum_rec(target: int, nums: int, memo = dict()) -> bool:\n",
    "    if target == 0:\n",
    "        return True\n",
    "\n",
    "    if target < 0:\n",
    "        return False\n",
    "\n",
    "    if target in memo:\n",
    "        return memo.get(target)\n",
    "    \n",
    "    for num in nums:\n",
    "        if can_sum_rec(target - num, nums, memo):\n",
    "            memo[target] = True\n",
    "            return True\n",
    "\n",
    "    memo[target] = False\n",
    "    return False"
   ]
  },
  {
   "cell_type": "code",
   "execution_count": 6,
   "metadata": {},
   "outputs": [
    {
     "output_type": "stream",
     "name": "stdout",
     "text": [
      "All test cases passed\n"
     ]
    }
   ],
   "source": [
    "from nose.tools import assert_equal\n",
    "class Test(object):\n",
    "    def test(self, sol):\n",
    "        assert_equal(sol(7, [2, 3]), True)\n",
    "        assert_equal(sol(300, [7, 14]), False)\n",
    "        print('All test cases passed')\n",
    "Test().test(can_sum_rec)"
   ]
  },
  {
   "source": [
    "## How Sum Type"
   ],
   "cell_type": "markdown",
   "metadata": {}
  },
  {
   "cell_type": "code",
   "execution_count": null,
   "metadata": {},
   "outputs": [],
   "source": []
  },
  {
   "cell_type": "code",
   "execution_count": 8,
   "metadata": {},
   "outputs": [],
   "source": [
    "def how_sum_rec(target: int, nums: 'list[int]', memo = dict()) -> 'list[int]':\n",
    "    if target == 0:\n",
    "        return []\n",
    "    \n",
    "    if target < 0:\n",
    "        return None\n",
    "    \n",
    "    if target in memo:\n",
    "        return memo.get(target)\n",
    "    \n",
    "    for num in nums:\n",
    "        current = how_sum_rec(target - num, nums, memo)\n",
    "        if current is not None:\n",
    "            current.append(num)\n",
    "            memo[target] = current\n",
    "            return current\n",
    "    memo[target] = None\n",
    "    return None"
   ]
  },
  {
   "cell_type": "code",
   "execution_count": 10,
   "metadata": {},
   "outputs": [
    {
     "output_type": "stream",
     "name": "stdout",
     "text": [
      "All test cases passed\n"
     ]
    }
   ],
   "source": [
    "from nose.tools import assert_equal\n",
    "class Test(object):\n",
    "    def test(self, sol):\n",
    "        assert_equal(sol(7, [2, 3]), [3, 2, 2])\n",
    "        assert_equal(sol(300, [7, 14]), None)\n",
    "        print('All test cases passed')\n",
    "Test().test(how_sum_rec)"
   ]
  },
  {
   "source": [
    "## Best Sum Type"
   ],
   "cell_type": "markdown",
   "metadata": {}
  },
  {
   "cell_type": "code",
   "execution_count": 1,
   "metadata": {},
   "outputs": [],
   "source": [
    "def best_sum_rec(target: int, nums: 'list[int]', memo = dict()):\n",
    "    if target == 0:\n",
    "        return []\n",
    "\n",
    "    if target < 0:\n",
    "        return None\n",
    "\n",
    "    if target in memo:\n",
    "        return memo.get(target)\n",
    "\n",
    "    min_array = None\n",
    "    for num in nums:\n",
    "        current_array = best_sum_rec(target - num, nums, memo)\n",
    "        if current_array is not None:\n",
    "            current_array.append(num)\n",
    "            if min_array is None:\n",
    "                min_array = current_array\n",
    "            elif len(current_array) < len(min_array):\n",
    "                min_array = current_array\n",
    "    memo[target] = min_array\n",
    "    return min_array         "
   ]
  },
  {
   "cell_type": "code",
   "execution_count": 2,
   "metadata": {},
   "outputs": [
    {
     "output_type": "stream",
     "name": "stdout",
     "text": [
      "All test cases passed\n"
     ]
    }
   ],
   "source": [
    "from nose.tools import assert_equal\n",
    "class Test(object):\n",
    "    def test(self, sol):\n",
    "        assert_equal(sol(8, [2, 3, 5]), [5, 3])\n",
    "        # assert_equal(sol(100, [1, 2, 5, 25]), [25, 25, 25, 25])\n",
    "        print('All test cases passed')\n",
    "Test().test(best_sum_rec)"
   ]
  },
  {
   "cell_type": "code",
   "execution_count": 25,
   "metadata": {},
   "outputs": [
    {
     "output_type": "execute_result",
     "data": {
      "text/plain": [
       "0"
      ]
     },
     "metadata": {},
     "execution_count": 25
    }
   ],
   "source": [
    "len([])"
   ]
  },
  {
   "cell_type": "code",
   "execution_count": null,
   "metadata": {},
   "outputs": [],
   "source": []
  }
 ]
}