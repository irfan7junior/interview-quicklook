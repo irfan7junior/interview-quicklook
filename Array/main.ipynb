{
 "metadata": {
  "language_info": {
   "codemirror_mode": {
    "name": "ipython",
    "version": 3
   },
   "file_extension": ".py",
   "mimetype": "text/x-python",
   "name": "python",
   "nbconvert_exporter": "python",
   "pygments_lexer": "ipython3",
   "version": "3.8.5-final"
  },
  "orig_nbformat": 2,
  "kernelspec": {
   "name": "python38532bit7a3d66e40b2648eeb10813da4fee525d",
   "display_name": "Python 3.8.5 32-bit",
   "language": "python"
  }
 },
 "nbformat": 4,
 "nbformat_minor": 2,
 "cells": [
  {
   "source": [
    "# Array"
   ],
   "cell_type": "markdown",
   "metadata": {}
  },
  {
   "source": [
    "## Dynamic Array"
   ],
   "cell_type": "markdown",
   "metadata": {}
  },
  {
   "cell_type": "code",
   "execution_count": 1,
   "metadata": {},
   "outputs": [],
   "source": [
    "  import ctypes\n",
    "\n",
    "  class DynamicArray(object):\n",
    "\n",
    "    def __init__(self):\n",
    "        self.index = 0\n",
    "        self.size = 0\n",
    "        self.capacity = 1\n",
    "        self.array = self.make_array(self.capacity)\n",
    "\n",
    "    def __len__(self):\n",
    "        return self.size\n",
    "\n",
    "    def __getitem__(self, k):\n",
    "        if not 0 <= k < self.size:\n",
    "            raise IndexError('Out of bounds!')\n",
    "        return self.array[k]\n",
    "    \n",
    "    def append(self, element):\n",
    "        if self.size == self.capacity:\n",
    "            self._resize(2 * self.capacity)\n",
    "        \n",
    "        self.array[self.size] = element\n",
    "        self.size += 1\n",
    "    \n",
    "    def _resize(self, new_cap):\n",
    "        temp_array = self.make_array(new_cap)\n",
    "        for k in range(self.size):\n",
    "            temp_array[k] = self.array[k]\n",
    "        self.array = temp_array\n",
    "        self.capacity = new_cap\n",
    "    \n",
    "    def make_array(self, new_cap):\n",
    "        return (new_cap * ctypes.py_object)()\n",
    "\n",
    "    def __iter__(self):\n",
    "        return self\n",
    "    \n",
    "    def __next__(self):\n",
    "        if self.index > self.size:\n",
    "            raise StopIteration\n",
    "        else:\n",
    "            item = self.array[self.index]\n",
    "            self.index += 1\n",
    "            return item\n",
    "    \n",
    "    def __repr__(self):\n",
    "        return ', '.join(map(str, [item for item in self.array]))"
   ]
  },
  {
   "source": [
    "## Anagram Test"
   ],
   "cell_type": "markdown",
   "metadata": {}
  },
  {
   "cell_type": "code",
   "execution_count": 41,
   "metadata": {},
   "outputs": [],
   "source": [
    "def sol_anagram_sorting(string1: str, string2: str) -> bool:\n",
    "    string1 = string1.replace(' ', '').lower()\n",
    "    string2 = string2.replace(' ', '').lower()\n",
    "\n",
    "    return sorted(string1) == sorted(string2)"
   ]
  },
  {
   "cell_type": "code",
   "execution_count": 42,
   "metadata": {},
   "outputs": [],
   "source": [
    "import string\n",
    "def sol_anagram(string1: str, string2: str) -> bool:\n",
    "    string1 = string1.replace(' ', '').lower()\n",
    "    string2 = string2.replace(' ', '').lower()\n",
    "\n",
    "    if len(string1) != len(string2): return False\n",
    "\n",
    "    dict1 = dict.fromkeys(string.ascii_lowercase, 0)\n",
    "    dict2 = dict.fromkeys(string.ascii_lowercase, 0)\n",
    "    for char in string1: dict1[char] += 1\n",
    "    for char in string2: dict2[char] += 1\n",
    "\n",
    "    for (key, value) in dict1.items():\n",
    "        if dict2[key] != value: return False\n",
    "    \n",
    "    return True"
   ]
  },
  {
   "cell_type": "code",
   "execution_count": 45,
   "metadata": {},
   "outputs": [
    {
     "output_type": "stream",
     "name": "stdout",
     "text": [
      "All TEST CASES PASSED\nAll TEST CASES PASSED\n"
     ]
    }
   ],
   "source": [
    "from nose.tools import assert_equal\n",
    "\n",
    "class AnagramTest(object):\n",
    "    \n",
    "    def test(self, sol):\n",
    "        assert_equal(sol('go go go', 'gggooo'), True)\n",
    "        assert_equal(sol('abc', 'cba'), True)\n",
    "        assert_equal(sol('hi man', 'hi    man'), True)\n",
    "        assert_equal(sol('aabbcc', 'aabbc'), False)\n",
    "        assert_equal(sol('123', '1 2'), False)\n",
    "        print('All TEST CASES PASSED')\n",
    "AnagramTest().test(sol_anagram)\n",
    "AnagramTest().test(sol_anagram_sorting)"
   ]
  },
  {
   "source": [
    "## Array Pair Sum"
   ],
   "cell_type": "markdown",
   "metadata": {}
  },
  {
   "cell_type": "code",
   "execution_count": 74,
   "metadata": {},
   "outputs": [],
   "source": [
    "def sol_pair_sum_set(array: 'list[int]', value: int) -> int:\n",
    "    if len(array) < 2: return -1\n",
    "    seen = set()\n",
    "    output = set()\n",
    "\n",
    "    for num in array:\n",
    "        target = value - num\n",
    "        if target not in seen:\n",
    "            seen.add(num)\n",
    "        else:\n",
    "            output.add((min(target, num), max(target, num)))\n",
    "    return len(output)"
   ]
  },
  {
   "source": [
    "def sol_pair_sum(array: [int], value: int) -> int:\n",
    "    array.sort()\n",
    "    sindex = 0\n",
    "    eindex = len(array) - 1\n",
    "    count = 0\n",
    "    while sindex < eindex:\n",
    "        current_value = array[sindex] + array[eindex]\n",
    "        if current_value > value:\n",
    "            eindex -= 1\n",
    "        elif current_value < value:\n",
    "            sindex += 1\n",
    "        else:\n",
    "            count += 1\n",
    "            sindex += 1\n",
    "            eindex -= 1\n",
    "    return count"
   ],
   "cell_type": "code",
   "metadata": {},
   "execution_count": 75,
   "outputs": []
  },
  {
   "cell_type": "code",
   "execution_count": 73,
   "metadata": {},
   "outputs": [
    {
     "output_type": "stream",
     "name": "stdout",
     "text": [
      "ALL TEST CASES PASSED\n"
     ]
    }
   ],
   "source": [
    "from nose.tools import assert_equal\n",
    "\n",
    "class TestPair(object):\n",
    "    \n",
    "    def test(self,sol):\n",
    "        assert_equal(sol([1,9,2,8,3,7,4,6,5,5,13,14,11,13,-1],10),6)\n",
    "        assert_equal(sol([1,2,3,1],3),1)\n",
    "        assert_equal(sol([1,3,2,2],4),2)\n",
    "        print('ALL TEST CASES PASSED')\n",
    "        \n",
    "TestPair().test(sol_pair_sum_set)\n"
   ]
  },
  {
   "source": [
    "## Find the missing element"
   ],
   "cell_type": "markdown",
   "metadata": {}
  },
  {
   "cell_type": "code",
   "execution_count": 86,
   "metadata": {},
   "outputs": [],
   "source": [
    "def sol_find_missing_sort(array1: 'list[int]', array2: 'list[int]') -> int:\n",
    "    array1.sort()\n",
    "    array2.sort()\n",
    "\n",
    "    for num1, num2 in zip(array1, array2):\n",
    "        if num1 != num2:\n",
    "            return num1\n",
    "    return num1[-1]"
   ]
  },
  {
   "cell_type": "code",
   "execution_count": 102,
   "metadata": {},
   "outputs": [],
   "source": [
    "def sol_find_missing_hash(array1: 'list[int]', array2: 'list[int]') -> int:\n",
    "    count = dict()\n",
    "    for item in array2:\n",
    "        if item not in count:\n",
    "            count[item] = 1\n",
    "        else:\n",
    "            count[item] += 1\n",
    "    \n",
    "    for item in array1:\n",
    "        if item not in count:\n",
    "            return item\n",
    "        \n",
    "        elif count[item] == 0:\n",
    "            return item\n",
    "        \n",
    "        else:\n",
    "            count[item] -= 1"
   ]
  },
  {
   "cell_type": "code",
   "execution_count": 103,
   "metadata": {},
   "outputs": [
    {
     "output_type": "stream",
     "name": "stdout",
     "text": [
      "ALL TEST CASES PASSED\n"
     ]
    }
   ],
   "source": [
    "from nose.tools import assert_equal\n",
    "\n",
    "class TestFinder(object):\n",
    "    \n",
    "    def test(self,sol):\n",
    "        assert_equal(sol([5,5,7,7],[5,7,7]),5)\n",
    "        assert_equal(sol([1,2,3,4,5,6,7],[3,7,2,1,4,6]),5)\n",
    "        assert_equal(sol([9,8,7,6,5,4,3,2,1],[9,8,7,5,4,3,2,1]),6)\n",
    "        print('ALL TEST CASES PASSED')\n",
    "\n",
    "# Run test\n",
    "TestFinder().test(sol_find_missing_hash)"
   ]
  },
  {
   "source": [
    "## Largest Continuous Sum"
   ],
   "cell_type": "markdown",
   "metadata": {}
  },
  {
   "cell_type": "code",
   "execution_count": 108,
   "metadata": {},
   "outputs": [],
   "source": [
    "def large_cont_sum(array: 'list[int]') -> int:\n",
    "    if len(array) == 0: return 0\n",
    "\n",
    "    max_sum = current_max = array[0]\n",
    "\n",
    "    for num in array[1:]:\n",
    "        current_max = max(current_max + num, num)\n",
    "        max_sum = current_max if current_max > max_sum else max_sum\n",
    "    \n",
    "    return max_sum"
   ]
  },
  {
   "cell_type": "code",
   "execution_count": 109,
   "metadata": {},
   "outputs": [
    {
     "output_type": "stream",
     "name": "stdout",
     "text": [
      "ALL TEST CASES PASSED\n"
     ]
    }
   ],
   "source": [
    "from nose.tools import assert_equal\n",
    "\n",
    "class LargeContTest(object):\n",
    "    def test(self,sol):\n",
    "        assert_equal(sol([1,2,-1,3,4,-1]),9)\n",
    "        assert_equal(sol([1,2,-1,3,4,10,10,-10,-1]),29)\n",
    "        assert_equal(sol([-1,1]),1)\n",
    "        print ('ALL TEST CASES PASSED')\n",
    "        \n",
    "#Run Test\n",
    "LargeContTest().test(large_cont_sum)"
   ]
  },
  {
   "source": [
    "## Sentence Reversal"
   ],
   "cell_type": "markdown",
   "metadata": {}
  },
  {
   "cell_type": "code",
   "execution_count": 24,
   "metadata": {},
   "outputs": [],
   "source": [
    "def sol_rev_word(string: str) -> str:\n",
    "    return ' '.join(reversed(string.strip(' ').split()))"
   ]
  },
  {
   "cell_type": "code",
   "execution_count": 40,
   "metadata": {},
   "outputs": [],
   "source": [
    "def sol_rev_word_scratch(string: str) -> str:\n",
    "    words = []\n",
    "    i = 0\n",
    "    size = len(string)\n",
    "    space = ' '\n",
    "    while i < size:\n",
    "        if string[i] is not space:\n",
    "            start_index = i\n",
    "            while i < size and string[i] is not space:\n",
    "                i += 1\n",
    "            words.append(string[start_index : i])\n",
    "        i += 1\n",
    "\n",
    "    start = 0\n",
    "    end = len(words) - 1\n",
    "    while start < end:\n",
    "        temp = words[start]\n",
    "        words[start] = words[end]\n",
    "        words[end] = temp\n",
    "        start += 1\n",
    "        end -= 1\n",
    "\n",
    "    result = ''\n",
    "    for i in range(len(words)):\n",
    "        result += (words[i] + ' ') if i != len(words) - 1 else (words[i])\n",
    "    return result"
   ]
  },
  {
   "cell_type": "code",
   "execution_count": 41,
   "metadata": {},
   "outputs": [
    {
     "output_type": "stream",
     "name": "stdout",
     "text": [
      "ALL TEST CASES PASSED\n"
     ]
    }
   ],
   "source": [
    "from nose.tools import assert_equal\n",
    "\n",
    "class ReversalTest(object):\n",
    "    \n",
    "    def test(self,sol):\n",
    "        assert_equal(sol('    space before'),'before space')\n",
    "        assert_equal(sol('space after     '),'after space')\n",
    "        assert_equal(sol('   Hello John    how are you   '),'you are how John Hello')\n",
    "        assert_equal(sol('1'),'1')\n",
    "        print (\"ALL TEST CASES PASSED\")\n",
    "        \n",
    "# Run and test\n",
    "ReversalTest().test(sol_rev_word_scratch)"
   ]
  },
  {
   "source": [
    "## String Compression"
   ],
   "cell_type": "markdown",
   "metadata": {}
  },
  {
   "cell_type": "code",
   "execution_count": 64,
   "metadata": {},
   "outputs": [],
   "source": [
    "def sol_compress(string: str) -> str:\n",
    "    size = len(string)\n",
    "    \n",
    "    if size == 0: return ''\n",
    "\n",
    "    if size == 1: return string[0] + '1'\n",
    "\n",
    "    result = ''\n",
    "    count = 1\n",
    "    i = 1\n",
    "\n",
    "    while i < size:\n",
    "        if string[i] == string[i - 1]:\n",
    "            count += 1\n",
    "        else:\n",
    "            result += (string[i-1] + str(count))\n",
    "            count = 1\n",
    "        i += 1\n",
    "    \n",
    "    result += (string[i-1] + str(count))\n",
    "    return result"
   ]
  },
  {
   "cell_type": "code",
   "execution_count": 65,
   "metadata": {},
   "outputs": [
    {
     "output_type": "stream",
     "name": "stdout",
     "text": [
      "ALL TEST CASES PASSED\n"
     ]
    }
   ],
   "source": [
    "from nose.tools import assert_equal\n",
    "\n",
    "class TestCompress(object):\n",
    "\n",
    "    def test(self, sol):\n",
    "        assert_equal(sol(''), '')\n",
    "        assert_equal(sol('AABBCC'), 'A2B2C2')\n",
    "        assert_equal(sol('AAABCCDDDDD'), 'A3B1C2D5')\n",
    "        print ('ALL TEST CASES PASSED')\n",
    "\n",
    "# Run Tests\n",
    "TestCompress().test(sol_compress)"
   ]
  },
  {
   "source": [
    "## Unique Charactes in a String"
   ],
   "cell_type": "markdown",
   "metadata": {}
  },
  {
   "cell_type": "code",
   "execution_count": 66,
   "metadata": {},
   "outputs": [],
   "source": [
    "def sol_uni_char(string: str) -> bool:\n",
    "    return len(set(string)) == len(string)"
   ]
  },
  {
   "cell_type": "code",
   "execution_count": 70,
   "metadata": {},
   "outputs": [],
   "source": [
    "def sol_uni_char_look(string: str) -> bool:\n",
    "    str_set = set()\n",
    "    for char in string:\n",
    "        if char in str_set:\n",
    "            return False\n",
    "        else:\n",
    "            str_set.add(char)\n",
    "    return True"
   ]
  },
  {
   "cell_type": "code",
   "execution_count": 71,
   "metadata": {},
   "outputs": [
    {
     "output_type": "stream",
     "name": "stdout",
     "text": [
      "ALL TEST CASES PASSED\nALL TEST CASES PASSED\n"
     ]
    }
   ],
   "source": [
    "from nose.tools import assert_equal\n",
    "\n",
    "\n",
    "class TestUnique(object):\n",
    "\n",
    "    def test(self, sol):\n",
    "        assert_equal(sol(''), True)\n",
    "        assert_equal(sol('goo'), False)\n",
    "        assert_equal(sol('abcdefg'), True)\n",
    "        print ('ALL TEST CASES PASSED')\n",
    "        \n",
    "# Run Tests\n",
    "TestUnique().test(sol_uni_char)\n",
    "TestUnique().test(sol_uni_char_look)"
   ]
  }
 ]
}