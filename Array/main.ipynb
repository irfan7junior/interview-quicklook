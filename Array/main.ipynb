{
 "metadata": {
  "language_info": {
   "codemirror_mode": {
    "name": "ipython",
    "version": 3
   },
   "file_extension": ".py",
   "mimetype": "text/x-python",
   "name": "python",
   "nbconvert_exporter": "python",
   "pygments_lexer": "ipython3",
   "version": "3.8.5-final"
  },
  "orig_nbformat": 2,
  "kernelspec": {
   "name": "python38532bit7a3d66e40b2648eeb10813da4fee525d",
   "display_name": "Python 3.8.5 32-bit",
   "language": "python"
  }
 },
 "nbformat": 4,
 "nbformat_minor": 2,
 "cells": [
  {
   "source": [
    "# Array"
   ],
   "cell_type": "markdown",
   "metadata": {}
  },
  {
   "source": [
    "## Dynamic Array"
   ],
   "cell_type": "markdown",
   "metadata": {}
  },
  {
   "cell_type": "code",
   "execution_count": 1,
   "metadata": {},
   "outputs": [],
   "source": [
    "  import ctypes\n",
    "\n",
    "  class DynamicArray(object):\n",
    "\n",
    "    def __init__(self):\n",
    "        self.index = 0\n",
    "        self.size = 0\n",
    "        self.capacity = 1\n",
    "        self.array = self.make_array(self.capacity)\n",
    "\n",
    "    def __len__(self):\n",
    "        return self.size\n",
    "\n",
    "    def __getitem__(self, k):\n",
    "        if not 0 <= k < self.size:\n",
    "            raise IndexError('Out of bounds!')\n",
    "        return self.array[k]\n",
    "    \n",
    "    def append(self, element):\n",
    "        if self.size == self.capacity:\n",
    "            self._resize(2 * self.capacity)\n",
    "        \n",
    "        self.array[self.size] = element\n",
    "        self.size += 1\n",
    "    \n",
    "    def _resize(self, new_cap):\n",
    "        temp_array = self.make_array(new_cap)\n",
    "        for k in range(self.size):\n",
    "            temp_array[k] = self.array[k]\n",
    "        self.array = temp_array\n",
    "        self.capacity = new_cap\n",
    "    \n",
    "    def make_array(self, new_cap):\n",
    "        return (new_cap * ctypes.py_object)()\n",
    "\n",
    "    def __iter__(self):\n",
    "        return self\n",
    "    \n",
    "    def __next__(self):\n",
    "        if self.index > self.size:\n",
    "            raise StopIteration\n",
    "        else:\n",
    "            item = self.array[self.index]\n",
    "            self.index += 1\n",
    "            return item\n",
    "    \n",
    "    def __repr__(self):\n",
    "        return ', '.join(map(str, [item for item in self.array]))"
   ]
  },
  {
   "cell_type": "code",
   "execution_count": null,
   "metadata": {},
   "outputs": [],
   "source": []
  }
 ]
}