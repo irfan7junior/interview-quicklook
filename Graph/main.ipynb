{
 "metadata": {
  "language_info": {
   "codemirror_mode": {
    "name": "ipython",
    "version": 3
   },
   "file_extension": ".py",
   "mimetype": "text/x-python",
   "name": "python",
   "nbconvert_exporter": "python",
   "pygments_lexer": "ipython3",
   "version": "3.8.5-final"
  },
  "orig_nbformat": 2,
  "kernelspec": {
   "name": "python3",
   "display_name": "Python 3.8.5 32-bit",
   "metadata": {
    "interpreter": {
     "hash": "b3ddf538fb3a42f9fbfe7f11c6dede3ea7130c83f3ba063cba8ec84a42ce8ea2"
    }
   }
  }
 },
 "nbformat": 4,
 "nbformat_minor": 2,
 "cells": [
  {
   "source": [
    "# Graph"
   ],
   "cell_type": "markdown",
   "metadata": {}
  },
  {
   "source": [
    "## Vertex Class"
   ],
   "cell_type": "markdown",
   "metadata": {}
  },
  {
   "cell_type": "code",
   "execution_count": 1,
   "metadata": {},
   "outputs": [],
   "source": [
    "class Vertex(object):\n",
    "    \n",
    "    def __init__(self, key):\n",
    "        self.neighbors = dict()\n",
    "        self.key = str(key)\n",
    "        self.pred = None\n",
    "        self.color = None\n",
    "        self.level = None\n",
    "    \n",
    "    def add_neighbor(self, key, weight = None):\n",
    "        self.neighbors[str(key)] = weight\n",
    "    \n",
    "    def remove_neighbor(self, key):\n",
    "        key = str(key)\n",
    "        if key in self.neighbors:\n",
    "            del self.neighbors[key]\n",
    "    \n",
    "    def get_neighbors(self):\n",
    "        return self.neighbors\n",
    "\n",
    "    def get_pred(self):\n",
    "        return self.pred\n",
    "\n",
    "    def set_pred(self, vertex):\n",
    "        if isinstance(vertex, Vertex) or vertex is None:\n",
    "            self.pred = vertex\n",
    "        else:\n",
    "            raise Exception('Invalid vertex')\n",
    "    \n",
    "    def get_color(self):\n",
    "        return self.color\n",
    "    \n",
    "    def set_color(self, color):\n",
    "        if color in ['white', 'gray', 'black'] or color is None:\n",
    "            self.color = color\n",
    "        else:\n",
    "            raise Exception('Invalid color passed')\n",
    "    \n",
    "    def get_level(self):\n",
    "        return self.level\n",
    "    \n",
    "    def set_level(self, level):\n",
    "        if isinstance(level, (int, float)):\n",
    "            self.level = level\n",
    "        else:\n",
    "            raise Exception('level should be of int type')\n",
    "\n",
    "    def __repr__(self):\n",
    "        return f'vertex: {self.key}, color: {self.color}, level: {self.level}'"
   ]
  },
  {
   "source": [
    "## Graph Class"
   ],
   "cell_type": "markdown",
   "metadata": {}
  },
  {
   "cell_type": "code",
   "execution_count": 2,
   "metadata": {},
   "outputs": [],
   "source": [
    "class Graph(object):\n",
    "    def __init__(self):\n",
    "        self.vertices = dict()\n",
    "    \n",
    "    def add_edge(self, from_vert, to_vert, weight = None):\n",
    "        from_vert = str(from_vert)\n",
    "        to_vert = str(to_vert)\n",
    "        if from_vert not in self.vertices:\n",
    "            self[from_vert] = Vertex(from_vert)\n",
    "        if to_vert not in self.vertices:\n",
    "            self[to_vert] = Vertex(to_vert)\n",
    "        self[from_vert].add_neighbor(to_vert, weight)\n",
    "    \n",
    "    def append_edges(self, edge_list, bi = False):\n",
    "        for edge in edge_list:\n",
    "            if not isinstance(edge, (tuple, list)):\n",
    "                raise Exception('edges should be of type tuple or list')\n",
    "            from_edge = str(edge[0])\n",
    "            to_edge = str(edge[1])\n",
    "            self.add_edge(from_edge, to_edge)\n",
    "            if bi:\n",
    "                self.add_edge(to_edge, from_edge)\n",
    "    \n",
    "    def __getitem__(self, key):\n",
    "        key = str(key)\n",
    "        if key in self.vertices:\n",
    "            return self.vertices[key]\n",
    "        else:\n",
    "            return None\n",
    "\n",
    "    def __setitem__(self, key, vertex: Vertex):\n",
    "        id = str(key)\n",
    "        if isinstance(vertex, Vertex):\n",
    "            self.vertices[key] = vertex\n",
    "        else:\n",
    "            raise Exception('Invalid vertex type')\n",
    "    \n",
    "    def __iter__(self):\n",
    "        self.iter_vert = iter(self.vertices)\n",
    "        return self\n",
    "    \n",
    "    def __next__(self):\n",
    "        key = next(self.iter_vert)\n",
    "        return self.vertices[key]"
   ]
  },
  {
   "source": [
    "## Breadth First Search (BFS)"
   ],
   "cell_type": "markdown",
   "metadata": {}
  },
  {
   "cell_type": "code",
   "execution_count": 3,
   "metadata": {},
   "outputs": [],
   "source": [
    "from collections import deque\n",
    "def bfs(graph: Graph, start: Vertex):\n",
    "    for vert in graph:\n",
    "        vert.set_color('white')\n",
    "        vert.set_pred(None)\n",
    "        vert.set_level(float('inf'))\n",
    "    start.set_color('gray')\n",
    "    start.set_pred(None)\n",
    "    start.set_level(0)\n",
    "    queue = deque()\n",
    "    queue.append(start)\n",
    "    while len(queue) != 0:\n",
    "        current = queue.popleft()\n",
    "        for key in current.get_neighbors().keys():\n",
    "            if graph[key].get_color() == 'white':\n",
    "                graph[key].set_color('gray')\n",
    "                graph[key].set_level(current.get_level() + 1)\n",
    "                graph[key].set_pred(current)\n",
    "                queue.append(graph[key])\n",
    "        print(current.key)\n",
    "        current.set_color('black')"
   ]
  },
  {
   "source": [
    "## Word Ladder"
   ],
   "cell_type": "markdown",
   "metadata": {}
  },
  {
   "cell_type": "code",
   "execution_count": 4,
   "metadata": {
    "tags": []
   },
   "outputs": [],
   "source": [
    "def word_ladder():\n",
    "    file = open('words.txt', 'r')\n",
    "    words = []\n",
    "    for line in file.readlines():\n",
    "        words.append(line.strip())\n",
    "    graph = Graph()\n",
    "    word_dict = dict()\n",
    "    for word in words:\n",
    "        for i in range(len(word)):\n",
    "            bucket = word[:i] + '_' + word[i+1:]\n",
    "            if bucket in word_dict:\n",
    "                word_dict[bucket].append(word)\n",
    "            else:\n",
    "                word_dict[bucket] = [word]\n",
    "    for bucket in word_dict.keys():\n",
    "        for word1 in word_dict[bucket]:\n",
    "            for word2 in word_dict[bucket]:\n",
    "                if word1 != word2:\n",
    "                    graph.add_edge(word1, word2)\n",
    "    for vert in graph:\n",
    "        vert.set_color('white')\n",
    "        vert.set_pred(None)\n",
    "        vert.set_level(float('inf'))\n",
    "    start = graph['fool']\n",
    "    start.set_color('gray')\n",
    "    start.set_level(0)\n",
    "    start.set_pred(None)\n",
    "    queue = deque()\n",
    "    queue.append(start)\n",
    "    while len(queue) is not 0:\n",
    "        current = queue.popleft()\n",
    "        for key in current.get_neighbors().keys():\n",
    "            if graph[key].get_color() == 'white':\n",
    "                graph[key].set_color('gray')\n",
    "                graph[key].set_pred(current)\n",
    "                graph[key].set_level(current.get_level() + 1)\n",
    "                if graph[key].key == 'sage':\n",
    "                    print(graph[key].get_level())\n",
    "                queue.append(graph[key])\n",
    "        current.set_color('black')"
   ]
  },
  {
   "source": [
    "## Graph Creation"
   ],
   "cell_type": "markdown",
   "metadata": {}
  },
  {
   "cell_type": "code",
   "execution_count": 5,
   "metadata": {},
   "outputs": [],
   "source": [
    "graph = Graph()\n",
    "graph.append_edges(\n",
    "    [('A', 'B'),\n",
    "    ('A', 'D'),\n",
    "    ('B', 'D'),\n",
    "    ('D', 'E'),\n",
    "    ('E', 'B'),\n",
    "    ('B', 'C'),\n",
    "    ('E', 'F'),\n",
    "    ('F', 'C')]\n",
    ")"
   ]
  },
  {
   "source": [
    "## Depth First Search Iterative"
   ],
   "cell_type": "markdown",
   "metadata": {}
  },
  {
   "cell_type": "code",
   "execution_count": 37,
   "metadata": {},
   "outputs": [],
   "source": [
    "from collections import deque\n",
    "def dfs(graph: Graph, start: Vertex):\n",
    "    for vert in graph:\n",
    "        vert.set_color('white')\n",
    "    stack = deque()\n",
    "    stack.append(start)\n",
    "    start.set_color('gray')\n",
    "    while len(stack) != 0:\n",
    "        current = stack.pop()\n",
    "        print(current.key)\n",
    "\n",
    "        for key in current.get_neighbors().keys():\n",
    "            if graph[key].get_color() == 'white':\n",
    "                stack.append(graph[key])\n",
    "                graph[key].set_color('gray')\n",
    "        current.set_color('black')"
   ]
  },
  {
   "source": [
    "## Depth First Search Recursive"
   ],
   "cell_type": "markdown",
   "metadata": {}
  },
  {
   "cell_type": "code",
   "execution_count": 38,
   "metadata": {},
   "outputs": [],
   "source": [
    "def dfs_rec(graph: Graph, start: Vertex):\n",
    "    for vert in graph:\n",
    "        vert.set_color('white')\n",
    "    dfs_rec_util(graph, start)\n",
    "    \n",
    "def dfs_rec_util(graph: Graph, vertex: Vertex):\n",
    "    vertex.set_color('gray')\n",
    "    print(vertex.key)\n",
    "    for key in vertex.get_neighbors().keys():\n",
    "        if graph[key].get_color() == 'white':\n",
    "            dfs_rec_util(graph, graph[key])\n",
    "    vertex.set_color('black')"
   ]
  },
  {
   "source": [
    "## Knight's Tour"
   ],
   "cell_type": "markdown",
   "metadata": {}
  },
  {
   "cell_type": "code",
   "execution_count": 77,
   "metadata": {},
   "outputs": [],
   "source": [
    "from collections import deque\n",
    "\n",
    "def pos_to_vert(row, col, board_size):\n",
    "    return str(row * board_size + col)\n",
    "\n",
    "def vert_to_pos(key, board_size):\n",
    "    col = int(key) % board_size\n",
    "    row = int(key) // board_size\n",
    "    return (row, col)\n",
    "\n",
    "def legal_coord(value, board_size):\n",
    "    if value >= 0 and value < board_size:\n",
    "        return True\n",
    "    else:\n",
    "        return False\n",
    "\n",
    "def gen_legal_moves(x: int, y: int, board_size: int):\n",
    "    new_moves = []\n",
    "    move_offsets = [\n",
    "        (-1, 2), (1, 2), (2, 1), (2, -1),\n",
    "        (-1, -2), (1, -2), (-2, -1), (-2, 1)\n",
    "        ]\n",
    "    for move in move_offsets:\n",
    "        new_x = x + move[0]\n",
    "        new_y = y + move[1]\n",
    "        if legal_coord(new_x, board_size) and legal_coord(new_y, board_size):\n",
    "            new_moves.append((new_x, new_y))\n",
    "    return new_moves\n",
    "\n",
    "def knight_graph(board_size):\n",
    "    graph = Graph()\n",
    "    for row in range(board_size):\n",
    "        for col in range(board_size):\n",
    "            vertex = pos_to_vert(row, col, board_size)\n",
    "            new_positions = gen_legal_moves(row, col, board_size)\n",
    "            for coord in new_positions:\n",
    "                to_vert = pos_to_vert(coord[0], coord[1], board_size)\n",
    "                graph.add_edge(vertex, to_vert)\n",
    "    return graph\n",
    "\n",
    "def knight_tour(board_size = 8):\n",
    "    graph = knight_graph(board_size)\n",
    "    for vert in graph:\n",
    "        vert.set_color('white')\n",
    "    coords = []\n",
    "    start = graph[pos_to_vert(0, 0, board_size)]\n",
    "    stack = deque()\n",
    "    stack.append(start)\n",
    "    start.set_color('gray')\n",
    "    while len(stack) != 0:\n",
    "        current = stack.pop()\n",
    "        # print(vert_to_pos(current.key, board_size))\n",
    "        coords.append(vert_to_pos(current.key, board_size))\n",
    "        \n",
    "        for key in current.get_neighbors().keys():\n",
    "            if graph[key].get_color() == 'white':\n",
    "                graph[key].set_color('gray')\n",
    "                stack.append(graph[key])\n",
    "\n",
    "        current.set_color('black')\n",
    "    return coords"
   ]
  }
 ]
}