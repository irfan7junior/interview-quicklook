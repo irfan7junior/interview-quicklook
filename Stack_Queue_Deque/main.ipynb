{
 "metadata": {
  "language_info": {
   "codemirror_mode": {
    "name": "ipython",
    "version": 3
   },
   "file_extension": ".py",
   "mimetype": "text/x-python",
   "name": "python",
   "nbconvert_exporter": "python",
   "pygments_lexer": "ipython3",
   "version": "3.8.5-final"
  },
  "orig_nbformat": 2,
  "kernelspec": {
   "name": "python3",
   "display_name": "Python 3.8.5 32-bit",
   "metadata": {
    "interpreter": {
     "hash": "b3ddf538fb3a42f9fbfe7f11c6dede3ea7130c83f3ba063cba8ec84a42ce8ea2"
    }
   }
  }
 },
 "nbformat": 4,
 "nbformat_minor": 2,
 "cells": [
  {
   "source": [
    "# Stack Queue and Deque"
   ],
   "cell_type": "markdown",
   "metadata": {}
  },
  {
   "source": [
    "## Stack Implementation"
   ],
   "cell_type": "markdown",
   "metadata": {}
  },
  {
   "cell_type": "code",
   "execution_count": 32,
   "metadata": {},
   "outputs": [],
   "source": [
    "class Stack(object):\n",
    "    def __init__(self):\n",
    "        self.items = []\n",
    "\n",
    "    def is_empty(self):\n",
    "        return len(self) == 0\n",
    "    \n",
    "    def push(self, item):\n",
    "        self.items.append(item)\n",
    "\n",
    "    def pop(self):\n",
    "        return self.items.pop()\n",
    "    \n",
    "    def peek(self):\n",
    "        return self.items[-1]\n",
    "\n",
    "    def size(self):\n",
    "        return len(self.items)\n",
    "\n",
    "    def __len__(self):\n",
    "        return len(self.items)\n",
    "\n",
    "    def __iter__(self):\n",
    "        self.index = 0\n",
    "        return self\n",
    "    \n",
    "    def __next__(self):\n",
    "        if self.index < 0 or self.index > len(self):\n",
    "            raise StopIteration\n",
    "        else:\n",
    "            item =  self.items[-1 * (index + 1)]\n",
    "            self.index += 1\n",
    "            return item\n",
    "\n",
    "    def __getitem__(self, index):\n",
    "        return self.items[index]\n",
    "\n",
    "    def __repr__(self):\n",
    "        return ', '.join([str(item) for item in self.items])"
   ]
  },
  {
   "source": [
    "## Queue Implementation"
   ],
   "cell_type": "markdown",
   "metadata": {}
  },
  {
   "cell_type": "code",
   "execution_count": 92,
   "metadata": {},
   "outputs": [],
   "source": [
    "class Queue(object):\n",
    "    \n",
    "    def __init__(self):\n",
    "        self.items = []\n",
    "\n",
    "    def is_empty(self):\n",
    "        return len(self.items) == 0\n",
    "    \n",
    "    def enqueue(self, item):\n",
    "        self.items.insert(0, item)\n",
    "    \n",
    "    def dequeue(self):\n",
    "        return self.items.pop()\n",
    "    \n",
    "    def size(self):\n",
    "        return len(self.items)\n",
    "\n",
    "    def __getitem__(self, index):\n",
    "        return self.items[index]\n",
    "    \n",
    "    def __iter__(self):\n",
    "        self.index = 0\n",
    "        return self\n",
    "    \n",
    "    def __next__(self):\n",
    "        if self.index < 0 or self.index > len(self.items) - 1:\n",
    "            raise StopIteration\n",
    "        else:\n",
    "            item = self.items[self.index]\n",
    "            self.index += 1\n",
    "            return item\n",
    "    \n",
    "    def __repr__(self):\n",
    "        return 'Back => ' + ', '.join([str(item) for item in self]) + ' => Front'"
   ]
  },
  {
   "source": [
    "## Deque Implementation"
   ],
   "cell_type": "markdown",
   "metadata": {}
  },
  {
   "cell_type": "code",
   "execution_count": 114,
   "metadata": {},
   "outputs": [],
   "source": [
    "class Deque(object):\n",
    "\n",
    "    def __init__(self):\n",
    "        self.items = []\n",
    "    \n",
    "    def add_front(self, item):\n",
    "        self.items.append(item)\n",
    "    \n",
    "    def add_rear(self, item):\n",
    "        self.items.insert(0, item)\n",
    "    \n",
    "    def remove_front(self):\n",
    "        self.items.pop()\n",
    "    \n",
    "    def remove_rear(self):\n",
    "        self.items.pop(0)\n",
    "    \n",
    "    def is_empty(self):\n",
    "        return len(self.items) == 0\n",
    "    \n",
    "    def size(self):\n",
    "        return len(self.items)\n",
    "    \n",
    "    def __getitem__(self, index):\n",
    "        return self.items[index]\n",
    "    \n",
    "    def __iter__(self):\n",
    "        self.index = 0\n",
    "        return self\n",
    "    \n",
    "    def __next__(self):\n",
    "        if self.index < 0 or self.index > len(self.items) - 1:\n",
    "            raise StopIteration\n",
    "        else:\n",
    "            item = self.items[self.index]\n",
    "            self.index += 1\n",
    "            return item\n",
    "    \n",
    "    def __repr__(self):\n",
    "        return 'Back => ' + ', '.join([str(item) for item in self]) + ' => Front'"
   ]
  },
  {
   "source": [
    "## Balanced Parentheses Check"
   ],
   "cell_type": "markdown",
   "metadata": {}
  },
  {
   "cell_type": "code",
   "execution_count": 141,
   "metadata": {},
   "outputs": [],
   "source": [
    "from collections import deque\n",
    "\n",
    "def sol_balance_check(string: str) -> bool:\n",
    "    if len(string) % 2 != 0:\n",
    "        return False\n",
    "\n",
    "    open_parens = ['(', '{', '[']\n",
    "    close_parens = [')', '}', ']']\n",
    "    paren_stack = deque()\n",
    "    \n",
    "    for char in string:\n",
    "        if char in open_parens:\n",
    "            paren_stack.append(char)\n",
    "        elif char in close_parens:\n",
    "            open_index = open_parens.index(paren_stack[-1])\n",
    "            close_index = close_parens.index(char)\n",
    "            if open_index == close_index:\n",
    "                paren_stack.pop()\n",
    "            else:\n",
    "                return False\n",
    "    \n",
    "    if len(paren_stack) != 0:\n",
    "        return False\n",
    "    return True"
   ]
  },
  {
   "cell_type": "code",
   "execution_count": 155,
   "metadata": {},
   "outputs": [],
   "source": [
    "from collections import deque\n",
    "def sol_balance_check_easy(string: str) -> bool:\n",
    "    if len(string) % 2 != 0:\n",
    "        return False\n",
    "    \n",
    "    open_parens = set(['(', '[', '{'])\n",
    "    close_parens = set([')', ']', '}'])\n",
    "    pair_parens = set([('(', ')'), ('{', '}'), ('[', ']')])\n",
    "\n",
    "    stack = deque()\n",
    "\n",
    "    for char in string:\n",
    "        if char in open_parens:\n",
    "            stack.append(char)\n",
    "        elif char in close_parens:\n",
    "            if (stack.pop(), char) not in pair_parens:\n",
    "                return False\n",
    "    \n",
    "    return len(stack) == 0"
   ]
  },
  {
   "cell_type": "code",
   "execution_count": 158,
   "metadata": {},
   "outputs": [
    {
     "output_type": "stream",
     "name": "stdout",
     "text": [
      "ALL TEST CASES PASSED\n"
     ]
    }
   ],
   "source": [
    "from nose.tools import assert_equal\n",
    "\n",
    "class TestBalanceCheck(object):\n",
    "    \n",
    "    def test(self,sol):\n",
    "        assert_equal(sol('[](){([[[]]])}('),False)\n",
    "        assert_equal(sol('[{{{(())}}}]((()))'),True)\n",
    "        assert_equal(sol('[[[]])]'),False)\n",
    "        assert_equal(sol('([])'),True)\n",
    "        print('ALL TEST CASES PASSED')\n",
    "        \n",
    "# Run Tests\n",
    "TestBalanceCheck().test(sol_balance_check_easy)"
   ]
  },
  {
   "source": [
    "## Implement a Queue - Using Two Stacks"
   ],
   "cell_type": "markdown",
   "metadata": {}
  },
  {
   "cell_type": "code",
   "execution_count": 159,
   "metadata": {},
   "outputs": [],
   "source": [
    "from collections import deque\n",
    "\n",
    "class Dequeu(object):\n",
    "    \n",
    "    def __init__(self):\n",
    "        self.in_stack = deque()\n",
    "        self.out_stack = deque()\n",
    "    \n",
    "    def enqueue(self, item):\n",
    "        self.in_stack.append(item)\n",
    "    \n",
    "    def deque(self):\n",
    "        if len(self.out_stack) == 0:\n",
    "            self.transfer()\n",
    "        return self.out_stack.pop()\n",
    "    \n",
    "    def transfer(self):\n",
    "        while (self.in_stack) is not 0:\n",
    "            self.out_stack.append(self.in_stack.pop())"
   ]
  },
  {
   "cell_type": "code",
   "execution_count": 160,
   "metadata": {},
   "outputs": [
    {
     "output_type": "stream",
     "name": "stdout",
     "text": [
      "0\n1\n2\n3\n4\n"
     ]
    }
   ],
   "source": [
    "# Test\n",
    "queue = Queue()\n",
    "for i in range(5):\n",
    "    queue.enqueue(i)\n",
    "\n",
    "for i in range(5):\n",
    "    print(queue.dequeue())"
   ]
  },
  {
   "cell_type": "code",
   "execution_count": null,
   "metadata": {},
   "outputs": [],
   "source": []
  }
 ]
}