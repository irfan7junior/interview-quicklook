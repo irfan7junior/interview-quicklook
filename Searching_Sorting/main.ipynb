{
 "metadata": {
  "language_info": {
   "codemirror_mode": {
    "name": "ipython",
    "version": 3
   },
   "file_extension": ".py",
   "mimetype": "text/x-python",
   "name": "python",
   "nbconvert_exporter": "python",
   "pygments_lexer": "ipython3",
   "version": "3.8.5-final"
  },
  "orig_nbformat": 2,
  "kernelspec": {
   "name": "python3",
   "display_name": "Python 3.8.5 32-bit",
   "metadata": {
    "interpreter": {
     "hash": "b3ddf538fb3a42f9fbfe7f11c6dede3ea7130c83f3ba063cba8ec84a42ce8ea2"
    }
   }
  }
 },
 "nbformat": 4,
 "nbformat_minor": 2,
 "cells": [
  {
   "source": [
    "# Searching and Sorting"
   ],
   "cell_type": "markdown",
   "metadata": {}
  },
  {
   "source": [
    "## Linear Seach"
   ],
   "cell_type": "markdown",
   "metadata": {}
  },
  {
   "cell_type": "code",
   "execution_count": 2,
   "metadata": {},
   "outputs": [],
   "source": [
    "def linear_search(items, el):\n",
    "    for item in items:\n",
    "        if item == el:\n",
    "            return True\n",
    "    return False"
   ]
  },
  {
   "source": [
    "## Binary Search"
   ],
   "cell_type": "markdown",
   "metadata": {}
  },
  {
   "cell_type": "code",
   "execution_count": 4,
   "metadata": {},
   "outputs": [],
   "source": [
    "def binary_search(items, el):\n",
    "    left = 0\n",
    "    right = len(items) - 1\n",
    "\n",
    "    while left <= right:\n",
    "        mid = (left + right) // 2\n",
    "        if items[mid] == el:\n",
    "            return mid\n",
    "        if items[mid] > el:\n",
    "            right = mid - 1\n",
    "        else:\n",
    "            left = mid + 1\n",
    "    return -1"
   ]
  },
  {
   "cell_type": "code",
   "execution_count": 9,
   "metadata": {},
   "outputs": [],
   "source": [
    "def binary_search_rec(items, el, left, right):\n",
    "    if left > right:\n",
    "        return -1\n",
    "    \n",
    "    mid = (left + right) // 2\n",
    "    if items[mid] == el:\n",
    "        return mid\n",
    "    if items[mid] > el:\n",
    "        return binary_search_rec(items, el, left, mid - 1)\n",
    "    if items[mid] < el:\n",
    "        return binary_search_rec(items, el, mid + 1, right)"
   ]
  },
  {
   "source": [
    "## Hash Table"
   ],
   "cell_type": "markdown",
   "metadata": {}
  },
  {
   "cell_type": "code",
   "execution_count": 12,
   "metadata": {},
   "outputs": [],
   "source": [
    "class HashTable(object):\n",
    "    \n",
    "    def __init__(self, size = 2):\n",
    "        self.size = size\n",
    "        self.slots = [None] * self.size\n",
    "        self.data = [None] * self.size\n",
    "    \n",
    "    def put(self, key, data):\n",
    "        hash_value = self.hash_function(key, len(self.slots))\n",
    "        if self.slots[hash_value] == None:\n",
    "            self.slots[hash_value] = key\n",
    "            self.data[hash_value] = data\n",
    "        else:\n",
    "            if self.slots[hash_value] == key:\n",
    "                self.data[hash_value] = data\n",
    "            else:\n",
    "                next_slot = self.rehash(hash_value, len(self.slots))\n",
    "                while self.slots[next_slot] != None and self.slots[next_slot] != key:\n",
    "                    next_slot = self.rehash(next_slot, len(self.slots))\n",
    "                if self.slots[next_slot] == None:\n",
    "                    self.slots[next_slot] = key\n",
    "                    self.data[next_slot] = data\n",
    "                else:\n",
    "                    self.data[next_slot] = data\n",
    "    \n",
    "    def get(self, key):\n",
    "        start_slot = self.hash_function(key, len(self.slots))\n",
    "        data = None\n",
    "\n",
    "        stop = False\n",
    "        found = False\n",
    "        position = start_slot\n",
    "\n",
    "        while self.slots[position] != None and not found and not stop:\n",
    "            if self.slots[position] == key:\n",
    "                found = True\n",
    "                data = self.data[position]\n",
    "            else:\n",
    "                position = self.rehash(position, len(self.slots))\n",
    "                if position == start_slot:\n",
    "                    stop = True\n",
    "        return data\n",
    "\n",
    "    def hash_function(key, size):\n",
    "        return key % size\n",
    "\n",
    "    def rehash(slef, old_hash, size):\n",
    "        return (old_hash+1)%size\n",
    "\n",
    "    def __getitem__(self, key):\n",
    "        return self.get(key)\n",
    "\n",
    "    def __setitem__(self, key, data):\n",
    "        self.put(key, data)"
   ]
  },
  {
   "source": [
    "## Bubble Sort"
   ],
   "cell_type": "markdown",
   "metadata": {}
  },
  {
   "cell_type": "code",
   "execution_count": 1,
   "metadata": {},
   "outputs": [],
   "source": [
    "def bubble_sort(items):\n",
    "    for i in range(len(items) - 1):\n",
    "        for j in range(i + 1, len(items)):\n",
    "            if items[i] > items[j]:\n",
    "                items[i], items[j] = items[j], items[i]"
   ]
  },
  {
   "source": [
    "## Selection Sort"
   ],
   "cell_type": "markdown",
   "metadata": {}
  },
  {
   "cell_type": "code",
   "execution_count": 3,
   "metadata": {},
   "outputs": [],
   "source": [
    "def selection_sort(items):\n",
    "    for i in range(len(items) - 1):\n",
    "        smallest_index = i\n",
    "        for j in range(i + 1, len(items)):\n",
    "            if items[j] < items[smallest_index]:\n",
    "                smallest_index = j\n",
    "        if smallest_index is not i:\n",
    "            items[smallest_index], items[i] = items[i], items[smallest_index]"
   ]
  },
  {
   "source": [
    "## Insertion Sort"
   ],
   "cell_type": "markdown",
   "metadata": {}
  },
  {
   "cell_type": "code",
   "execution_count": 14,
   "metadata": {},
   "outputs": [],
   "source": [
    "def insertion_sort(items):\n",
    "    for i in range(1, len(items)):\n",
    "        position = i - 1\n",
    "        current_value = items[i]\n",
    "        while i >= 0 and items[position] > current_value:\n",
    "            items[position + 1] = items[position]\n",
    "            position -= 1\n",
    "        position += 1\n",
    "        items[position] = current_value"
   ]
  },
  {
   "source": [
    "## Shell Sort"
   ],
   "cell_type": "markdown",
   "metadata": {}
  },
  {
   "cell_type": "code",
   "execution_count": 4,
   "metadata": {},
   "outputs": [],
   "source": [
    "def shell_sort(items):\n",
    "    size = len(items)\n",
    "    gap = size // 2\n",
    "\n",
    "    while gap > 0:\n",
    "        for i in range(gap, size):\n",
    "            temp = items[i]\n",
    "\n",
    "            j = i\n",
    "            while j >= gap and items[j - gap] > temp:\n",
    "                items[j] = items[j - gap]\n",
    "                j -= gap\n",
    "            \n",
    "            items[j] = temp\n",
    "        gap //= 2"
   ]
  },
  {
   "source": [
    "## Merge Sort"
   ],
   "cell_type": "markdown",
   "metadata": {}
  },
  {
   "cell_type": "code",
   "execution_count": 11,
   "metadata": {},
   "outputs": [],
   "source": [
    "def merge_sort(items, start, end):\n",
    "    if start < end:\n",
    "        mid = (start + end) // 2\n",
    "        merge_sort(items, start, mid)\n",
    "        merge_sort(items, mid + 1, end)\n",
    "        merge(items, start, mid, end)\n",
    "\n",
    "def merge(items, start, mid, end):\n",
    "    left_list = [el for el in items[start:mid + 1]]\n",
    "    left_list.append(float('inf'))\n",
    "\n",
    "    right_list = [el for el in items[mid + 1:end + 1]]\n",
    "    right_list.append(float('inf'))\n",
    "\n",
    "    size = end - start + 1\n",
    "    l_index = 0\n",
    "    r_index = 0 \n",
    "    for i in range(start, end + 1):\n",
    "        if left_list[l_index] < right_list[r_index]:\n",
    "            items[i] = left_list[l_index]\n",
    "            l_index += 1\n",
    "        else:\n",
    "            items[i] = right_list[r_index]\n",
    "            r_index += 1"
   ]
  },
  {
   "source": [
    "## Quick Sort"
   ],
   "cell_type": "markdown",
   "metadata": {}
  },
  {
   "cell_type": "code",
   "execution_count": 13,
   "metadata": {},
   "outputs": [],
   "source": [
    "def quick_sort(items, start, end):\n",
    "    if start < end:\n",
    "        part_index = partition(items, start, end)\n",
    "        quick_sort(items, start, part_index - 1)\n",
    "        quick_sort(items, part_index + 1, end)\n",
    "\n",
    "def partition(items, start, end):\n",
    "    x = items[end]\n",
    "    i = start - 1\n",
    "    for j in range(start, end):\n",
    "        if items[j] <= x:\n",
    "            i += 1\n",
    "            items[i], items[j] = items[j], items[i]\n",
    "    items[i + 1], items[end] = items[end], items[i + 1]\n",
    "    return i + 1"
   ]
  }
 ]
}