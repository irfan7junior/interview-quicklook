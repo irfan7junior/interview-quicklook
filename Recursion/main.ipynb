{
 "metadata": {
  "language_info": {
   "codemirror_mode": {
    "name": "ipython",
    "version": 3
   },
   "file_extension": ".py",
   "mimetype": "text/x-python",
   "name": "python",
   "nbconvert_exporter": "python",
   "pygments_lexer": "ipython3",
   "version": "3.8.5"
  },
  "orig_nbformat": 2,
  "kernelspec": {
   "name": "python3",
   "display_name": "Python 3.8.5 32-bit",
   "metadata": {
    "interpreter": {
     "hash": "1738e4b2df14406e777cb374aa4ff4d67db1fae8c505445415a9d20f0fc29def"
    }
   }
  }
 },
 "nbformat": 4,
 "nbformat_minor": 2,
 "cells": [
  {
   "source": [
    "# Recursion"
   ],
   "cell_type": "markdown",
   "metadata": {}
  },
  {
   "source": [
    "## Recursion Sum"
   ],
   "cell_type": "markdown",
   "metadata": {}
  },
  {
   "cell_type": "code",
   "execution_count": 27,
   "metadata": {},
   "outputs": [
    {
     "output_type": "execute_result",
     "data": {
      "text/plain": [
       "10"
      ]
     },
     "metadata": {},
     "execution_count": 27
    }
   ],
   "source": [
    "def rec_sum(n):\n",
    "    if n == 0:\n",
    "        return 0\n",
    "    else:\n",
    "        return n + rec_sum(n - 1)\n",
    "\n",
    "# Testing        \n",
    "rec_sum(4)"
   ]
  },
  {
   "source": [
    "## Sum of Individual Digits"
   ],
   "cell_type": "markdown",
   "metadata": {}
  },
  {
   "cell_type": "code",
   "execution_count": 28,
   "metadata": {},
   "outputs": [
    {
     "output_type": "execute_result",
     "data": {
      "text/plain": [
       "10"
      ]
     },
     "metadata": {},
     "execution_count": 28
    }
   ],
   "source": [
    "def sum_func(n):\n",
    "    if n == 0:\n",
    "        return 0\n",
    "    return n % 10 + sum_func(n // 10)\n",
    "\n",
    "# Testing\n",
    "sum_func(4321)"
   ]
  },
  {
   "source": [
    "## Word Split"
   ],
   "cell_type": "markdown",
   "metadata": {}
  },
  {
   "cell_type": "code",
   "execution_count": 29,
   "metadata": {},
   "outputs": [
    {
     "output_type": "execute_result",
     "data": {
      "text/plain": [
       "False"
      ]
     },
     "metadata": {},
     "execution_count": 29
    }
   ],
   "source": [
    "    def word_split(string: str, words: 'list[str]') -> bool:\n",
    "        if len(string) == 0:\n",
    "            return True\n",
    "        for word in words:\n",
    "            if string[:len(word)] == word:\n",
    "                return word_split(string[ len(word): ], words)\n",
    "        return False\n",
    "\n",
    "    # Testing\n",
    "    word_split('themanran',['the','ran','man'])\n",
    "    word_split('ilovedogsJohn',['i','am','a','dogs','lover','love','John'])\n",
    "    word_split('themanran',['clown','ran','man'])"
   ]
  },
  {
   "source": [
    "## Memoized Factorial"
   ],
   "cell_type": "markdown",
   "metadata": {}
  },
  {
   "cell_type": "code",
   "execution_count": 30,
   "metadata": {},
   "outputs": [],
   "source": [
    "class Memoize:\n",
    "    def __init__(self, f):\n",
    "        self.f = f\n",
    "        self.memo = dict()\n",
    "    \n",
    "    def __call__(self, *args):\n",
    "        if not args in self.memo:\n",
    "            self.memo[args] = self.f(*args)\n",
    "        return self.memo[args]"
   ]
  },
  {
   "cell_type": "code",
   "execution_count": 31,
   "metadata": {},
   "outputs": [],
   "source": [
    "def factorial(k):\n",
    "    if k < 2:\n",
    "        return k\n",
    "    return k * factorial(k - 1)\n",
    "factorial = Memoize(factorial)"
   ]
  },
  {
   "source": [
    "## String Reversal"
   ],
   "cell_type": "markdown",
   "metadata": {}
  },
  {
   "cell_type": "code",
   "execution_count": 32,
   "metadata": {},
   "outputs": [
    {
     "output_type": "execute_result",
     "data": {
      "text/plain": [
       "'dlrow olleh'"
      ]
     },
     "metadata": {},
     "execution_count": 32
    }
   ],
   "source": [
    "def reverse(string: str) -> str:\n",
    "    if len(string) is 0: return ''\n",
    "    return reverse(string[1:]) + string[0]\n",
    "\n",
    "# Testing\n",
    "reverse('hello world')"
   ]
  },
  {
   "cell_type": "code",
   "execution_count": 33,
   "metadata": {},
   "outputs": [
    {
     "output_type": "stream",
     "name": "stdout",
     "text": [
      "PASSED ALL TEST CASES!\n"
     ]
    }
   ],
   "source": [
    "from nose.tools import assert_equal\n",
    "\n",
    "class TestReverse(object):\n",
    "    \n",
    "    def test_rev(self,solution):\n",
    "        assert_equal(solution('hello'),'olleh')\n",
    "        assert_equal(solution('hello world'),'dlrow olleh')\n",
    "        assert_equal(solution('123456789'),'987654321')\n",
    "        \n",
    "        print('PASSED ALL TEST CASES!')\n",
    "        \n",
    "# Run Tests\n",
    "TestReverse().test_rev(reverse)"
   ]
  },
  {
   "source": [
    "## String Permutation"
   ],
   "cell_type": "markdown",
   "metadata": {}
  },
  {
   "cell_type": "code",
   "execution_count": 34,
   "metadata": {},
   "outputs": [],
   "source": [
    "def permute(string: str) -> 'list[str]':\n",
    "    output = []\n",
    "\n",
    "    # Base Case\n",
    "    if len(string) == 1:\n",
    "        return [string]\n",
    "    \n",
    "    # for every letter in string\n",
    "    for i, let in enumerate(string):\n",
    "        for perm in permute(string[:i] + string[i+1:]):\n",
    "            output += [let + perm]\n",
    "\n",
    "    return output"
   ]
  },
  {
   "cell_type": "code",
   "execution_count": 35,
   "metadata": {},
   "outputs": [
    {
     "output_type": "stream",
     "name": "stdout",
     "text": [
      "All test cases passed.\n"
     ]
    }
   ],
   "source": [
    "from nose.tools import assert_equal\n",
    "\n",
    "class TestPerm(object):\n",
    "    \n",
    "    def test(self,solution):\n",
    "        \n",
    "        assert_equal(sorted(solution('abc')),sorted(['abc', 'acb', 'bac', 'bca', 'cab', 'cba']))\n",
    "        assert_equal(sorted(solution('dog')),sorted(['dog', 'dgo', 'odg', 'ogd', 'gdo', 'god']) )\n",
    "        \n",
    "        print('All test cases passed.')\n",
    "        \n",
    "\n",
    "\n",
    "# Run Tests\n",
    "TestPerm().test(permute)"
   ]
  },
  {
   "source": [
    "## Fibonacci"
   ],
   "cell_type": "markdown",
   "metadata": {}
  },
  {
   "cell_type": "code",
   "execution_count": 36,
   "metadata": {},
   "outputs": [
    {
     "output_type": "execute_result",
     "data": {
      "text/plain": [
       "55"
      ]
     },
     "metadata": {},
     "execution_count": 36
    }
   ],
   "source": [
    "def fib_rec(num: int) -> int:\n",
    "    if (num < 2): return num\n",
    "    return fib_rec(num - 1) + fib_rec(num - 2)\n",
    "\n",
    "# Testing\n",
    "fib_rec(10)"
   ]
  },
  {
   "cell_type": "code",
   "execution_count": 37,
   "metadata": {},
   "outputs": [
    {
     "output_type": "execute_result",
     "data": {
      "text/plain": [
       "55"
      ]
     },
     "metadata": {},
     "execution_count": 37
    }
   ],
   "source": [
    "def fib_dyn(num: int, memo = dict()) -> int:\n",
    "    if num < 2:\n",
    "        return num\n",
    "    if num in memo:\n",
    "        return memo.get(num)\n",
    "    \n",
    "    ans = fib_dyn(num - 1, memo) + fib_dyn(num - 2, memo)\n",
    "    memo[num] = ans\n",
    "\n",
    "    return ans\n",
    "\n",
    "# Testing\n",
    "fib_dyn(10)"
   ]
  },
  {
   "cell_type": "code",
   "execution_count": 41,
   "metadata": {},
   "outputs": [
    {
     "output_type": "execute_result",
     "data": {
      "text/plain": [
       "55"
      ]
     },
     "metadata": {},
     "execution_count": 41
    }
   ],
   "source": [
    "def fib_iter(num: int) -> int:\n",
    "    prev = 0\n",
    "    cur = 1\n",
    "\n",
    "    for i in range(num):\n",
    "        prev, cur = cur, prev + cur\n",
    "    \n",
    "    return prev\n",
    "# Testing\n",
    "fib_iter(10)"
   ]
  },
  {
   "source": [
    "## Coin Change"
   ],
   "cell_type": "markdown",
   "metadata": {}
  },
  {
   "source": [
    "### Recursive Approach"
   ],
   "cell_type": "markdown",
   "metadata": {}
  },
  {
   "cell_type": "code",
   "execution_count": 69,
   "metadata": {},
   "outputs": [],
   "source": [
    "def rec_coin(target: int, coins: 'list[int]') -> int:\n",
    "    if target == 0:\n",
    "        return 0\n",
    "\n",
    "    if target < 0:\n",
    "        return float('inf')\n",
    "    \n",
    "    min_coins = float('inf')\n",
    "\n",
    "    for coin in coins:\n",
    "        num_coins = 1 + rec_coin(target - coin, coins)\n",
    "        if num_coins < min_coins:\n",
    "            min_coins = num_coins\n",
    "            \n",
    "    return min_coins"
   ]
  },
  {
   "source": [
    "### Dynamic Approach"
   ],
   "cell_type": "markdown",
   "metadata": {}
  },
  {
   "cell_type": "code",
   "execution_count": 70,
   "metadata": {},
   "outputs": [],
   "source": [
    "def rec_coin_dynamic(target: int, coins: 'list[int]', memo = dict()) -> int:\n",
    "    if target == 0:\n",
    "        return 0\n",
    "    \n",
    "    if target < 0:\n",
    "        return float('inf')\n",
    "\n",
    "    if target in memo:\n",
    "        return memo.get(target)\n",
    "    \n",
    "    min_coins = float('inf')\n",
    "    \n",
    "    for coin in coins:\n",
    "        num_coins = rec_coin_dynamic(target - coin, coins, memo) + 1\n",
    "\n",
    "        if num_coins < min_coins:\n",
    "            min_coins = num_coins\n",
    "    \n",
    "    memo[target] = min_coins\n",
    "    return min_coins"
   ]
  }
 ]
}